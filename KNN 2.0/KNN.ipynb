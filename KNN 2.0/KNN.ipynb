{
 "cells": [
  {
   "cell_type": "code",
   "execution_count": 74,
   "id": "3ad33aab",
   "metadata": {},
   "outputs": [],
   "source": [
    "import pandas as pd\n",
    "from sklearn.model_selection import train_test_split \n",
    "from sklearn.neighbors import KNeighborsClassifier\n",
    "from sklearn.base import TransformerMixin\n",
    "from sklearn.base import BaseEstimator\n",
    "from sklearn.pipeline import Pipeline\n",
    "from sklearn.metrics import confusion_matrix, precision_recall_fscore_support\n",
    "from sklearn.preprocessing import StandardScaler\n",
    "\n",
    "\n",
    "import Helpers as hlp"
   ]
  },
  {
   "cell_type": "code",
   "execution_count": 85,
   "id": "17018a9e",
   "metadata": {},
   "outputs": [],
   "source": [
    "class PreprocessingTransformer(BaseEstimator, TransformerMixin):\n",
    "    # def __init__(self):\n",
    "    #     pass\n",
    "    def fit(self, X, y=None):\n",
    "        return self\n",
    "    def transform(self, X, y=None):\n",
    "        X_ = X.copy()\n",
    "        X_ = hlp.Onehotencoding(X_)\n",
    "        # replace missing values with mean values\n",
    "        X_['customer_since_all'], _ = hlp.missingtomean(X_['customer_since_all'])\n",
    "        X_['customer_since_bank'], _ = hlp.missingtomean(X_['customer_since_bank'])\n",
    "        # normalizing integer values\n",
    "        cols_to_norm = list(X_.select_dtypes(include=['int64', 'float64']))\n",
    "        # print(fields_to_normalize)\n",
    "        X_[cols_to_norm] = StandardScaler().fit_transform(X_[cols_to_norm])\n",
    "        # X_[fields_to_normalize] = X_[fields_to_normalize].apply(lambda x: (x - x.min()) / (x.max() - x.min()))\n",
    "        # X_[integer_fields]=(X_[integer_fields]-X_[integer_fields].min())/(X_[integer_fields].max()-X_[integer_fields].min())\n",
    "        return X_"
   ]
  },
  {
   "cell_type": "code",
   "execution_count": 65,
   "id": "2a4e51e2",
   "metadata": {},
   "outputs": [],
   "source": [
    "churn_now = hlp.load_data('train_month_3_with_target.csv')\n",
    "# churn_1mback = hlp.load_data('train_month_2.csv')\n",
    "# churn_2mback = hlp.load_data('train_month_1.csv')"
   ]
  },
  {
   "cell_type": "code",
   "execution_count": 20,
   "id": "5b29682f",
   "metadata": {},
   "outputs": [],
   "source": [
    "# Drop integers for now (until we rescale them properly)\n",
    "\n",
    "# integers = churn_now.select_dtypes(include=\"int64\").columns\n",
    "# for i in range(len(integers)):\n",
    "#     churn_now = churn_now.drop(columns = [integers[i]])"
   ]
  },
  {
   "cell_type": "code",
   "execution_count": 66,
   "id": "3c7ed8bf",
   "metadata": {
    "scrolled": true
   },
   "outputs": [],
   "source": [
    "# Create x and y variables.\n",
    "\n",
    "x = churn_now.drop(columns=['target'])\n",
    "y = churn_now['target']"
   ]
  },
  {
   "cell_type": "code",
   "execution_count": 86,
   "id": "d91f3a9f",
   "metadata": {},
   "outputs": [],
   "source": [
    "pipeline = Pipeline(steps=[\n",
    "    ('preprocessing', PreprocessingTransformer()),\n",
    "    ('knn_classifier', KNeighborsClassifier(n_neighbors=4))\n",
    "])"
   ]
  },
  {
   "cell_type": "code",
   "execution_count": 68,
   "id": "b4449aa7",
   "metadata": {},
   "outputs": [],
   "source": [
    "# Split in train, validation and test set\n",
    "\n",
    "x_train, x_test, y_train, y_test = train_test_split(x, y, test_size=0.2, stratify=y, random_state=9)\n",
    "x_train, x_validation, y_train, y_validation = train_test_split(x_train, y_train, test_size=0.2, stratify=y_train, random_state=9)"
   ]
  },
  {
   "cell_type": "code",
   "execution_count": 69,
   "id": "ea3f060d",
   "metadata": {},
   "outputs": [
    {
     "name": "stdout",
     "output_type": "stream",
     "text": [
      "<class 'pandas.core.frame.DataFrame'>\n",
      "Index: 40765 entries, 050687917679384bab2f3a5966569e13 to f142ee164d725c3722da45dbd70daff9\n",
      "Data columns (total 38 columns):\n",
      " #   Column                             Non-Null Count  Dtype   \n",
      "---  ------                             --------------  -----   \n",
      " 0   homebanking_active                 40765 non-null  bool    \n",
      " 1   has_homebanking                    40765 non-null  bool    \n",
      " 2   has_insurance_21                   40765 non-null  bool    \n",
      " 3   has_insurance_23                   40765 non-null  bool    \n",
      " 4   has_life_insurance_fixed_cap       40765 non-null  bool    \n",
      " 5   has_life_insurance_decreasing_cap  40765 non-null  bool    \n",
      " 6   has_fire_car_other_insurance       40765 non-null  bool    \n",
      " 7   has_personal_loan                  40765 non-null  bool    \n",
      " 8   has_mortgage_loan                  40765 non-null  bool    \n",
      " 9   has_current_account                40765 non-null  bool    \n",
      " 10  has_pension_saving                 40765 non-null  bool    \n",
      " 11  has_savings_account                40765 non-null  bool    \n",
      " 12  has_savings_account_starter        40765 non-null  bool    \n",
      " 13  has_current_account_starter        40765 non-null  bool    \n",
      " 14  bal_insurance_21                   40765 non-null  int64   \n",
      " 15  bal_insurance_23                   40765 non-null  int64   \n",
      " 16  cap_life_insurance_fixed_cap       40765 non-null  int64   \n",
      " 17  cap_life_insurance_decreasing_cap  40765 non-null  int64   \n",
      " 18  prem_fire_car_other_insurance      40765 non-null  int64   \n",
      " 19  bal_personal_loan                  40765 non-null  int64   \n",
      " 20  bal_mortgage_loan                  40765 non-null  int64   \n",
      " 21  bal_current_account                40765 non-null  int64   \n",
      " 22  bal_pension_saving                 40765 non-null  int64   \n",
      " 23  bal_savings_account                40765 non-null  int64   \n",
      " 24  bal_savings_account_starter        40765 non-null  int64   \n",
      " 25  bal_current_account_starter        40765 non-null  int64   \n",
      " 26  visits_distinct_so                 40765 non-null  float64 \n",
      " 27  visits_distinct_so_areas           40765 non-null  float64 \n",
      " 28  customer_since_all                 40614 non-null  float64 \n",
      " 29  customer_since_bank                40605 non-null  float64 \n",
      " 30  customer_gender                    40765 non-null  bool    \n",
      " 31  customer_birth_date                40765 non-null  int64   \n",
      " 32  customer_postal_code               40765 non-null  category\n",
      " 33  customer_occupation_code           40765 non-null  category\n",
      " 34  customer_self_employed             40765 non-null  bool    \n",
      " 35  customer_education                 40765 non-null  category\n",
      " 36  customer_children                  40765 non-null  category\n",
      " 37  customer_relationship              40765 non-null  category\n",
      "dtypes: bool(16), category(5), float64(4), int64(13)\n",
      "memory usage: 6.4+ MB\n"
     ]
    }
   ],
   "source": [
    "# Still missing values in 2 features\n",
    "\n",
    "x_train.info()"
   ]
  },
  {
   "cell_type": "code",
   "execution_count": 87,
   "id": "f0de9d62",
   "metadata": {},
   "outputs": [
    {
     "name": "stdout",
     "output_type": "stream",
     "text": [
      "<class 'pandas.core.frame.DataFrame'>\n",
      "Index: 40765 entries, 050687917679384bab2f3a5966569e13 to f142ee164d725c3722da45dbd70daff9\n",
      "Data columns (total 72 columns):\n",
      " #   Column                             Non-Null Count  Dtype  \n",
      "---  ------                             --------------  -----  \n",
      " 0   homebanking_active                 40765 non-null  bool   \n",
      " 1   has_homebanking                    40765 non-null  bool   \n",
      " 2   has_insurance_21                   40765 non-null  bool   \n",
      " 3   has_insurance_23                   40765 non-null  bool   \n",
      " 4   has_life_insurance_fixed_cap       40765 non-null  bool   \n",
      " 5   has_life_insurance_decreasing_cap  40765 non-null  bool   \n",
      " 6   has_fire_car_other_insurance       40765 non-null  bool   \n",
      " 7   has_personal_loan                  40765 non-null  bool   \n",
      " 8   has_mortgage_loan                  40765 non-null  bool   \n",
      " 9   has_current_account                40765 non-null  bool   \n",
      " 10  has_pension_saving                 40765 non-null  bool   \n",
      " 11  has_savings_account                40765 non-null  bool   \n",
      " 12  has_savings_account_starter        40765 non-null  bool   \n",
      " 13  has_current_account_starter        40765 non-null  bool   \n",
      " 14  bal_insurance_21                   40765 non-null  int64  \n",
      " 15  bal_insurance_23                   40765 non-null  int64  \n",
      " 16  cap_life_insurance_fixed_cap       40765 non-null  int64  \n",
      " 17  cap_life_insurance_decreasing_cap  40765 non-null  int64  \n",
      " 18  prem_fire_car_other_insurance      40765 non-null  int64  \n",
      " 19  bal_personal_loan                  40765 non-null  int64  \n",
      " 20  bal_mortgage_loan                  40765 non-null  int64  \n",
      " 21  bal_current_account                40765 non-null  int64  \n",
      " 22  bal_pension_saving                 40765 non-null  int64  \n",
      " 23  bal_savings_account                40765 non-null  int64  \n",
      " 24  bal_savings_account_starter        40765 non-null  int64  \n",
      " 25  bal_current_account_starter        40765 non-null  int64  \n",
      " 26  visits_distinct_so                 40765 non-null  float64\n",
      " 27  visits_distinct_so_areas           40765 non-null  float64\n",
      " 28  customer_since_all                 40765 non-null  float64\n",
      " 29  customer_since_bank                40765 non-null  float64\n",
      " 30  customer_gender                    40765 non-null  bool   \n",
      " 31  customer_birth_date                40765 non-null  int64  \n",
      " 32  customer_self_employed             40765 non-null  bool   \n",
      " 33  0.0                                40765 non-null  float64\n",
      " 34  1.0                                40765 non-null  float64\n",
      " 35  2.0                                40765 non-null  float64\n",
      " 36  3.0                                40765 non-null  float64\n",
      " 37  4.0                                40765 non-null  float64\n",
      " 38  5.0                                40765 non-null  float64\n",
      " 39  6.0                                40765 non-null  float64\n",
      " 40  7.0                                40765 non-null  float64\n",
      " 41  8.0                                40765 non-null  float64\n",
      " 42  9.0                                40765 non-null  float64\n",
      " 43  0.0                                40765 non-null  float64\n",
      " 44  1.0                                40765 non-null  float64\n",
      " 45  2.0                                40765 non-null  float64\n",
      " 46  3.0                                40765 non-null  float64\n",
      " 47  4.0                                40765 non-null  float64\n",
      " 48  5.0                                40765 non-null  float64\n",
      " 49  6.0                                40765 non-null  float64\n",
      " 50  7.0                                40765 non-null  float64\n",
      " 51  8.0                                40765 non-null  float64\n",
      " 52  9.0                                40765 non-null  float64\n",
      " 53  0.0                                40765 non-null  float64\n",
      " 54  1.0                                40765 non-null  float64\n",
      " 55  2.0                                40765 non-null  float64\n",
      " 56  3.0                                40765 non-null  float64\n",
      " 57  4.0                                40765 non-null  float64\n",
      " 58  5.0                                40765 non-null  float64\n",
      " 59  6.0                                40765 non-null  float64\n",
      " 60  adolescent                         40765 non-null  float64\n",
      " 61  grownup                            40765 non-null  float64\n",
      " 62  mature                             40765 non-null  float64\n",
      " 63  no                                 40765 non-null  float64\n",
      " 64  onebaby                            40765 non-null  float64\n",
      " 65  preschool                          40765 non-null  float64\n",
      " 66  unknown                            40765 non-null  float64\n",
      " 67  yes                                40765 non-null  float64\n",
      " 68  young                              40765 non-null  float64\n",
      " 69  couple                             40765 non-null  float64\n",
      " 70  single                             40765 non-null  float64\n",
      " 71  unknown                            40765 non-null  float64\n",
      "dtypes: bool(16), float64(43), int64(13)\n",
      "memory usage: 19.4+ MB\n"
     ]
    },
    {
     "name": "stderr",
     "output_type": "stream",
     "text": [
      "C:\\Users\\USER\\.pyenv\\pyenv-win\\versions\\3.9.6\\lib\\site-packages\\sklearn\\utils\\validation.py:1688: FutureWarning: Feature names only support names that are all strings. Got feature names with dtypes: ['float', 'str']. An error will be raised in 1.2.\n",
      "  warnings.warn(\n",
      "C:\\Users\\USER\\.pyenv\\pyenv-win\\versions\\3.9.6\\lib\\site-packages\\sklearn\\utils\\validation.py:1688: FutureWarning: Feature names only support names that are all strings. Got feature names with dtypes: ['float', 'str']. An error will be raised in 1.2.\n",
      "  warnings.warn(\n",
      "C:\\Users\\USER\\.pyenv\\pyenv-win\\versions\\3.9.6\\lib\\site-packages\\sklearn\\utils\\validation.py:1688: FutureWarning: Feature names only support names that are all strings. Got feature names with dtypes: ['float', 'str']. An error will be raised in 1.2.\n",
      "  warnings.warn(\n"
     ]
    },
    {
     "data": {
      "text/plain": [
       "Pipeline(steps=[('preprocessing', PreprocessingTransformer()),\n",
       "                ('knn_classifier', KNeighborsClassifier(n_neighbors=4))])"
      ]
     },
     "execution_count": 87,
     "metadata": {},
     "output_type": "execute_result"
    }
   ],
   "source": [
    "pipeline.fit(x_train, y_train)"
   ]
  },
  {
   "cell_type": "code",
   "execution_count": 83,
   "id": "fe97c360",
   "metadata": {},
   "outputs": [
    {
     "name": "stderr",
     "output_type": "stream",
     "text": [
      "C:\\Users\\USER\\.pyenv\\pyenv-win\\versions\\3.9.6\\lib\\site-packages\\sklearn\\utils\\validation.py:1688: FutureWarning: Feature names only support names that are all strings. Got feature names with dtypes: ['float', 'str']. An error will be raised in 1.2.\n",
      "  warnings.warn(\n",
      "C:\\Users\\USER\\.pyenv\\pyenv-win\\versions\\3.9.6\\lib\\site-packages\\sklearn\\utils\\validation.py:1688: FutureWarning: Feature names only support names that are all strings. Got feature names with dtypes: ['float', 'str']. An error will be raised in 1.2.\n",
      "  warnings.warn(\n",
      "C:\\Users\\USER\\.pyenv\\pyenv-win\\versions\\3.9.6\\lib\\site-packages\\sklearn\\utils\\validation.py:1688: FutureWarning: Feature names only support names that are all strings. Got feature names with dtypes: ['float', 'str']. An error will be raised in 1.2.\n",
      "  warnings.warn(\n"
     ]
    }
   ],
   "source": [
    "y_pred = pipeline.predict(x_validation)"
   ]
  },
  {
   "cell_type": "code",
   "execution_count": 84,
   "id": "c1205043",
   "metadata": {},
   "outputs": [
    {
     "name": "stdout",
     "output_type": "stream",
     "text": [
      "(9879, 7, 306, 0)\n"
     ]
    }
   ],
   "source": [
    "tn, fp, fn, tp = confusion_matrix(y_validation, y_pred).ravel()\n",
    "print((tn, fp, fn, tp))"
   ]
  },
  {
   "cell_type": "code",
   "execution_count": 26,
   "id": "008d8b2d",
   "metadata": {},
   "outputs": [
    {
     "data": {
      "text/plain": [
       "(array([0.97007163, 1.        ]),\n",
       " array([1.        , 0.00326797]),\n",
       " array([0.98480849, 0.00651466]),\n",
       " array([9886,  306], dtype=int64))"
      ]
     },
     "execution_count": 26,
     "metadata": {},
     "output_type": "execute_result"
    }
   ],
   "source": [
    "precision_recall_fscore_support(y_validation, y_pred)"
   ]
  },
  {
   "cell_type": "code",
   "execution_count": 29,
   "id": "f9858271",
   "metadata": {},
   "outputs": [
    {
     "name": "stdout",
     "output_type": "stream",
     "text": [
      "(9638, 248, 288, 18)\n",
      "(9869, 17, 306, 0)\n",
      "(9850, 36, 304, 2)\n",
      "(9886, 0, 306, 0)\n",
      "(9881, 5, 305, 1)\n"
     ]
    }
   ],
   "source": [
    "# import warnings\n",
    "# warnings.filterwarnings('ignore')\n",
    "\n",
    "# for i in range(1, 6):\n",
    "#     knn = KNeighborsClassifier(n_neighbors=i)\n",
    "#     knn.fit(x_train, y_train)\n",
    "#     predictions = knn.predict(x_validation)\n",
    "#     tn, fp, fn, tp = confusion_matrix(y_validation, predictions).ravel()\n",
    "#     print((tn, fp, fn, tp))"
   ]
  }
 ],
 "metadata": {
  "kernelspec": {
   "display_name": "Python 3 (ipykernel)",
   "language": "python",
   "name": "python3"
  },
  "language_info": {
   "codemirror_mode": {
    "name": "ipython",
    "version": 3
   },
   "file_extension": ".py",
   "mimetype": "text/x-python",
   "name": "python",
   "nbconvert_exporter": "python",
   "pygments_lexer": "ipython3",
   "version": "3.9.6"
  }
 },
 "nbformat": 4,
 "nbformat_minor": 5
}
