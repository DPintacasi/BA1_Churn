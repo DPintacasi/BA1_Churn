{
 "cells": [
  {
   "cell_type": "code",
   "execution_count": 1,
   "id": "3ad33aab",
   "metadata": {},
   "outputs": [],
   "source": [
    "import pandas as pd\n",
    "from sklearn.model_selection import train_test_split \n",
    "from sklearn.neighbors import KNeighborsClassifier\n",
    "\n",
    "import Helpers as hlp"
   ]
  },
  {
   "cell_type": "code",
   "execution_count": 16,
   "id": "2a4e51e2",
   "metadata": {},
   "outputs": [],
   "source": [
    "churn_now = hlp.load_data('train_month_3_with_target.csv')\n",
    "churn_1mback = hlp.load_data('train_month_2.csv')\n",
    "churn_2mback = hlp.load_data('train_month_1.csv')"
   ]
  },
  {
   "cell_type": "code",
   "execution_count": 17,
   "id": "6e830c79",
   "metadata": {},
   "outputs": [],
   "source": [
    "# Merge all dataframes\n",
    "#churn_all = pd.merge(churn_2mback, churn_1mback, left_index = True, right_index = True, suffixes=('_2', '_1'))\n",
    "#churn_all = pd.merge(churn_all, churn_now, left_index = True, right_index = True, suffixes=(None, None))"
   ]
  },
  {
   "cell_type": "code",
   "execution_count": 18,
   "id": "884c41e5",
   "metadata": {},
   "outputs": [],
   "source": [
    "# Do One-hot encoding (can be done before splitting)\n",
    "\n",
    "churn_now = hlp.Onehotencoding(churn_now)"
   ]
  },
  {
   "cell_type": "code",
   "execution_count": 20,
   "id": "5b29682f",
   "metadata": {},
   "outputs": [],
   "source": [
    "# Drop integers for now (until we rescale them properly)\n",
    "\n",
    "integers = churn_now.select_dtypes(include=\"int64\").columns\n",
    "for i in range(len(integers)):\n",
    "    churn_now = churn_now.drop(columns = [integers[i]])"
   ]
  },
  {
   "cell_type": "code",
   "execution_count": 21,
   "id": "3c7ed8bf",
   "metadata": {
    "scrolled": true
   },
   "outputs": [],
   "source": [
    "# Create x and y variables.\n",
    "\n",
    "x = churn_now.drop(columns=['target'])\n",
    "y = churn_now['target']"
   ]
  },
  {
   "cell_type": "code",
   "execution_count": 22,
   "id": "b4449aa7",
   "metadata": {},
   "outputs": [],
   "source": [
    "# Split in train, validation and test set\n",
    "\n",
    "x_train, x_test, y_train, y_test = train_test_split(x, y, test_size=0.2, stratify=y, random_state=9)\n",
    "x_train, x_validation, y_train, y_validation = train_test_split(x_train, y_train, test_size=0.2, stratify=y_train, random_state=9)"
   ]
  },
  {
   "cell_type": "code",
   "execution_count": 23,
   "id": "ea3f060d",
   "metadata": {},
   "outputs": [
    {
     "name": "stdout",
     "output_type": "stream",
     "text": [
      "<class 'pandas.core.frame.DataFrame'>\n",
      "Index: 40765 entries, 050687917679384bab2f3a5966569e13 to f142ee164d725c3722da45dbd70daff9\n",
      "Data columns (total 59 columns):\n",
      " #   Column                             Non-Null Count  Dtype  \n",
      "---  ------                             --------------  -----  \n",
      " 0   homebanking_active                 40765 non-null  bool   \n",
      " 1   has_homebanking                    40765 non-null  bool   \n",
      " 2   has_insurance_21                   40765 non-null  bool   \n",
      " 3   has_insurance_23                   40765 non-null  bool   \n",
      " 4   has_life_insurance_fixed_cap       40765 non-null  bool   \n",
      " 5   has_life_insurance_decreasing_cap  40765 non-null  bool   \n",
      " 6   has_fire_car_other_insurance       40765 non-null  bool   \n",
      " 7   has_personal_loan                  40765 non-null  bool   \n",
      " 8   has_mortgage_loan                  40765 non-null  bool   \n",
      " 9   has_current_account                40765 non-null  bool   \n",
      " 10  has_pension_saving                 40765 non-null  bool   \n",
      " 11  has_savings_account                40765 non-null  bool   \n",
      " 12  has_savings_account_starter        40765 non-null  bool   \n",
      " 13  has_current_account_starter        40765 non-null  bool   \n",
      " 14  visits_distinct_so                 40765 non-null  float64\n",
      " 15  visits_distinct_so_areas           40765 non-null  float64\n",
      " 16  customer_since_all                 40614 non-null  float64\n",
      " 17  customer_since_bank                40605 non-null  float64\n",
      " 18  customer_gender                    40765 non-null  bool   \n",
      " 19  customer_self_employed             40765 non-null  bool   \n",
      " 20  0.0                                40765 non-null  float64\n",
      " 21  1.0                                40765 non-null  float64\n",
      " 22  2.0                                40765 non-null  float64\n",
      " 23  3.0                                40765 non-null  float64\n",
      " 24  4.0                                40765 non-null  float64\n",
      " 25  5.0                                40765 non-null  float64\n",
      " 26  6.0                                40765 non-null  float64\n",
      " 27  7.0                                40765 non-null  float64\n",
      " 28  8.0                                40765 non-null  float64\n",
      " 29  9.0                                40765 non-null  float64\n",
      " 30  0.0                                40765 non-null  float64\n",
      " 31  1.0                                40765 non-null  float64\n",
      " 32  2.0                                40765 non-null  float64\n",
      " 33  3.0                                40765 non-null  float64\n",
      " 34  4.0                                40765 non-null  float64\n",
      " 35  5.0                                40765 non-null  float64\n",
      " 36  6.0                                40765 non-null  float64\n",
      " 37  7.0                                40765 non-null  float64\n",
      " 38  8.0                                40765 non-null  float64\n",
      " 39  9.0                                40765 non-null  float64\n",
      " 40  0.0                                40765 non-null  float64\n",
      " 41  1.0                                40765 non-null  float64\n",
      " 42  2.0                                40765 non-null  float64\n",
      " 43  3.0                                40765 non-null  float64\n",
      " 44  4.0                                40765 non-null  float64\n",
      " 45  5.0                                40765 non-null  float64\n",
      " 46  6.0                                40765 non-null  float64\n",
      " 47  adolescent                         40765 non-null  float64\n",
      " 48  grownup                            40765 non-null  float64\n",
      " 49  mature                             40765 non-null  float64\n",
      " 50  no                                 40765 non-null  float64\n",
      " 51  onebaby                            40765 non-null  float64\n",
      " 52  preschool                          40765 non-null  float64\n",
      " 53  unknown                            40765 non-null  float64\n",
      " 54  yes                                40765 non-null  float64\n",
      " 55  young                              40765 non-null  float64\n",
      " 56  couple                             40765 non-null  float64\n",
      " 57  single                             40765 non-null  float64\n",
      " 58  unknown                            40765 non-null  float64\n",
      "dtypes: bool(16), float64(43)\n",
      "memory usage: 14.3+ MB\n"
     ]
    }
   ],
   "source": [
    "# Still missing values in 2 features\n",
    "\n",
    "x_train.info()"
   ]
  },
  {
   "cell_type": "code",
   "execution_count": 24,
   "id": "b02e5bd9",
   "metadata": {},
   "outputs": [],
   "source": [
    "# Replace missing values in customer_since\n",
    "\n",
    "x_train['customer_since_all'], mean_csa = hlp.missingtomean(x_train['customer_since_all'])\n",
    "x_train['customer_since_bank'], mean_csb = hlp.missingtomean(x_train['customer_since_bank'])"
   ]
  },
  {
   "cell_type": "code",
   "execution_count": 26,
   "id": "a113790c",
   "metadata": {},
   "outputs": [],
   "source": [
    "# Replace missing values in the validation set \n",
    "\n",
    "x_validation['customer_since_all'] = x_validation['customer_since_all'].fillna(mean_csa)\n",
    "x_validation['customer_since_bank'] = x_validation['customer_since_bank'].fillna(mean_csb)"
   ]
  },
  {
   "cell_type": "code",
   "execution_count": 29,
   "id": "f9858271",
   "metadata": {},
   "outputs": [
    {
     "name": "stdout",
     "output_type": "stream",
     "text": [
      "(9638, 248, 288, 18)\n",
      "(9869, 17, 306, 0)\n",
      "(9850, 36, 304, 2)\n",
      "(9886, 0, 306, 0)\n",
      "(9881, 5, 305, 1)\n"
     ]
    }
   ],
   "source": [
    "from sklearn.metrics import confusion_matrix\n",
    "import warnings\n",
    "warnings.filterwarnings('ignore')\n",
    "\n",
    "for i in range(1, 6):\n",
    "    knn = KNeighborsClassifier(n_neighbors=i)\n",
    "    knn.fit(x_train, y_train)\n",
    "    predictions = knn.predict(x_validation)\n",
    "    tn, fp, fn, tp = confusion_matrix(y_validation, predictions).ravel()\n",
    "    print((tn, fp, fn, tp))"
   ]
  }
 ],
 "metadata": {
  "kernelspec": {
   "display_name": "Python 3 (ipykernel)",
   "language": "python",
   "name": "python3"
  },
  "language_info": {
   "codemirror_mode": {
    "name": "ipython",
    "version": 3
   },
   "file_extension": ".py",
   "mimetype": "text/x-python",
   "name": "python",
   "nbconvert_exporter": "python",
   "pygments_lexer": "ipython3",
   "version": "3.9.7"
  }
 },
 "nbformat": 4,
 "nbformat_minor": 5
}
