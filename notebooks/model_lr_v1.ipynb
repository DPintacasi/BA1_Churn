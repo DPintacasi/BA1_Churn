{
 "cells": [
  {
   "cell_type": "code",
   "execution_count": 1,
   "id": "ba99788d",
   "metadata": {},
   "outputs": [],
   "source": [
    "%matplotlib inline\n",
    "import numpy as np\n",
    "\n",
    "import pandas as pd\n",
    "import matplotlib.pyplot as plt\n",
    "import seaborn as sns\n",
    "import datetime as dt\n",
    "\n",
    "from sklearn.compose import ColumnTransformer\n",
    "from sklearn.impute import SimpleImputer\n",
    "from sklearn.preprocessing import StandardScaler, OneHotEncoder\n",
    "from sklearn.linear_model import LogisticRegression, LogisticRegressionCV\n",
    "from sklearn.model_selection import train_test_split, GridSearchCV\n",
    "from imblearn.pipeline import Pipeline\n",
    "\n",
    "import custom_helpers as ch\n",
    "\n",
    "np.random.seed(0)\n",
    "\n",
    "# print(df.info())"
   ]
  },
  {
   "cell_type": "code",
   "execution_count": 2,
   "id": "c80f588f",
   "metadata": {},
   "outputs": [
    {
     "name": "stdout",
     "output_type": "stream",
     "text": [
      "------------------------------------------------------------\n",
      "loading data...\n",
      "transforming dates...\n",
      "cast types into bool, object, categorical...\n",
      "data loaded and casted\n",
      "------------------------------------------------------------\n",
      "<class 'pandas.core.frame.DataFrame'>\n",
      "RangeIndex: 63697 entries, 0 to 63696\n",
      "Data columns (total 14 columns):\n",
      " #   Column                             Non-Null Count  Dtype   \n",
      "---  ------                             --------------  -----   \n",
      " 0   homebanking_active                 63697 non-null  bool    \n",
      " 1   bal_mortgage_loan                  63697 non-null  int64   \n",
      " 2   has_life_insurance_decreasing_cap  63697 non-null  bool    \n",
      " 3   has_current_account                63697 non-null  bool    \n",
      " 4   bal_savings_account                63697 non-null  int64   \n",
      " 5   has_personal_loan                  63697 non-null  bool    \n",
      " 6   customer_since_all_years           63463 non-null  float64 \n",
      " 7   customer_age                       63697 non-null  int64   \n",
      " 8   customer_children                  63697 non-null  category\n",
      " 9   customer_education                 63697 non-null  category\n",
      " 10  visits_distinct_so                 63697 non-null  float64 \n",
      " 11  customer_self_employed             63697 non-null  bool    \n",
      " 12  age2                               63697 non-null  int64   \n",
      " 13  interaction                        63463 non-null  float64 \n",
      "dtypes: bool(5), category(2), float64(3), int64(4)\n",
      "memory usage: 3.8 MB\n"
     ]
    }
   ],
   "source": [
    "#non sample-dependent transformations\n",
    "def sample_agnostic_transformation(data):\n",
    "\n",
    "    selected_col = [\n",
    "                'homebanking_active'\n",
    "                # 'has_homebanking'\n",
    "                ,'bal_mortgage_loan'\n",
    "                ,'has_life_insurance_decreasing_cap'\n",
    "                    # # ,'has_mortgage_loan'\n",
    "                ,'has_current_account'\n",
    "                    # ,'cap_life_insurance_decreasing_cap'\n",
    "                ,'bal_savings_account'\n",
    "                # ,'bal_current_account'\n",
    "                ,'has_personal_loan'\n",
    "                    # ,'bal_personal_loan'\n",
    "                ,'customer_since_all_years'\n",
    "                    # ,'customer_since_bank_years'\n",
    "                ,'customer_age'\n",
    "                ,'customer_children'\n",
    "                ,'customer_education'\n",
    "                # ,'has_current_account_starter'\n",
    "                # ,'has_savings_account'\n",
    "                ,'visits_distinct_so'\n",
    "                ,'customer_self_employed'\n",
    "                # ,'customer_gender'\n",
    "         ]\n",
    "    \n",
    "    if 'target' in data.columns:\n",
    "        y = data.target\n",
    "        X = data.drop(columns = ['target'])\n",
    "        X = X[selected_col]\n",
    "    else:\n",
    "        X = data[selected_col]\n",
    "        y = 0\n",
    "        \n",
    "    X['age2'] = data['customer_age']*data['customer_age']\n",
    "    \n",
    "    X['interaction'] = data['visits_distinct_so']*data['customer_since_all_years']\n",
    "    # X['interaction'] = data['visits_distinct_so']*data['customer_self_employed']\n",
    "\n",
    "    return X, y\n",
    "\n",
    "df = ch.load_data('../data/train_month_3_with_target.csv')\n",
    "X, y = sample_agnostic_transformation(df)\n",
    "X.info()"
   ]
  },
  {
   "cell_type": "code",
   "execution_count": 3,
   "id": "52f2c1d2",
   "metadata": {},
   "outputs": [],
   "source": [
    "X_train, X_test, y_train, y_test = train_test_split(X, y, test_size=0.33, stratify = y, random_state=42)\n",
    "\n",
    "from sklearn.compose import make_column_selector\n",
    "\n",
    "num_col = make_column_selector(dtype_include = 'number', dtype_exclude = 'bool')\n",
    "cat_col = make_column_selector(dtype_include = 'category')\n",
    "bool_col = make_column_selector(dtype_include = 'bool')\n",
    "date_col = make_column_selector(dtype_include = 'datetime64')\n",
    "obj_col = make_column_selector(dtype_include = 'object')"
   ]
  },
  {
   "cell_type": "code",
   "execution_count": 4,
   "id": "49820155",
   "metadata": {},
   "outputs": [],
   "source": [
    "from sklearn.preprocessing import FunctionTransformer\n",
    "\n",
    "numeric_transformer = Pipeline(steps = [\n",
    "    ('impute',SimpleImputer(missing_values=np.nan, strategy='median')),\n",
    "    ('scale', StandardScaler())\n",
    "])\n",
    "\n",
    "categorical_transformer = OneHotEncoder(drop = 'first',handle_unknown=\"ignore\")\n",
    "\n",
    "preprocessor = ColumnTransformer(\n",
    "    transformers=[\n",
    "        ('drop_ID','drop',obj_col),\n",
    "        ('drop_dates','drop',date_col),\n",
    "        ('cat',categorical_transformer,cat_col),\n",
    "        ('num',numeric_transformer,num_col)\n",
    "    ],\n",
    "    remainder = \"passthrough\"\n",
    ")\n",
    "\n",
    "f = preprocessor.fit_transform(X_train)\n",
    "f = pd.DataFrame(f)"
   ]
  },
  {
   "cell_type": "code",
   "execution_count": 5,
   "id": "c824f550",
   "metadata": {},
   "outputs": [
    {
     "name": "stdout",
     "output_type": "stream",
     "text": [
      "Best parameter (CV score=29.400):\n",
      "{'logistic__C': 0.0016681005372000592}\n",
      "------------------------------------------------------------\n",
      "Performance Over Whole Set\n",
      "------------------------------------------------------------\n",
      "               precision    recall  f1-score   support\n",
      "\n",
      "Did not Churn       0.98      0.67      0.80     20390\n",
      "        Churn       0.06      0.64      0.11       631\n",
      "\n",
      "     accuracy                           0.67     21021\n",
      "    macro avg       0.52      0.66      0.45     21021\n",
      " weighted avg       0.96      0.67      0.78     21021\n",
      "\n",
      "------------------------------------------------------------\n",
      "AUC: 0.66\n",
      "No. of TP (precision@250): 42\n",
      "------------------------------------------------------------\n"
     ]
    }
   ],
   "source": [
    "lr = LogisticRegression(max_iter=10000, tol=0.5, class_weight = 'balanced')\n",
    "\n",
    "pipe = Pipeline(\n",
    "    steps=[\n",
    "        (\"preprocessor\", preprocessor),\n",
    "        (\"logistic\", lr)]\n",
    ")\n",
    "\n",
    "param_grid = {\n",
    "        \"logistic__C\": np.logspace(-10,3,10)\n",
    "    }\n",
    "\n",
    "gridscorer = ch.gridscorer() # customer scorer (precision@250)\n",
    "\n",
    "search = GridSearchCV(pipe, param_grid, scoring = gridscorer, n_jobs=-2)\n",
    "search.fit(X_train, y_train)\n",
    "print(\"Best parameter (CV score=%0.3f):\" % search.best_score_)\n",
    "print(search.best_params_)\n",
    "\n",
    "clf = search.best_estimator_.fit(X_train,y_train)\n",
    "\n",
    "# make prediction on test\n",
    "\n",
    "ch.evaluate(clf, X_test, y_test)"
   ]
  },
  {
   "cell_type": "code",
   "execution_count": 6,
   "id": "8ad6a8a0-f164-4dcd-b912-518bd49d9b19",
   "metadata": {},
   "outputs": [
    {
     "name": "stdout",
     "output_type": "stream",
     "text": [
      "------------------------------------------------------------\n",
      "loading data...\n",
      "transforming dates...\n",
      "cast types into bool, object, categorical...\n",
      "data loaded and casted\n",
      "------------------------------------------------------------\n"
     ]
    },
    {
     "name": "stderr",
     "output_type": "stream",
     "text": [
      "/var/folders/k9/8r2lz4cj6qv_gpslncglrtc40000gn/T/ipykernel_53366/1856144008.py:36: SettingWithCopyWarning: \n",
      "A value is trying to be set on a copy of a slice from a DataFrame.\n",
      "Try using .loc[row_indexer,col_indexer] = value instead\n",
      "\n",
      "See the caveats in the documentation: https://pandas.pydata.org/pandas-docs/stable/user_guide/indexing.html#returning-a-view-versus-a-copy\n",
      "  X['age2'] = data['customer_age']*data['customer_age']\n",
      "/var/folders/k9/8r2lz4cj6qv_gpslncglrtc40000gn/T/ipykernel_53366/1856144008.py:38: SettingWithCopyWarning: \n",
      "A value is trying to be set on a copy of a slice from a DataFrame.\n",
      "Try using .loc[row_indexer,col_indexer] = value instead\n",
      "\n",
      "See the caveats in the documentation: https://pandas.pydata.org/pandas-docs/stable/user_guide/indexing.html#returning-a-view-versus-a-copy\n",
      "  X['interaction'] = data['visits_distinct_so']*data['customer_since_all_years']\n"
     ]
    },
    {
     "name": "stdout",
     "output_type": "stream",
     "text": [
      "[[ 0.09277067 -0.09724924 -0.0770966  -0.01497808  0.08354551  0.04734683\n",
      "   0.04223512  0.09730973  0.1426577   0.13792625  0.2582035   0.0929976\n",
      "   0.15248753  0.01929856  0.10450055 -0.35673494  0.02361204  0.15959858\n",
      "   0.02858001 -0.29693358 -0.05503322  0.30240344  0.24409149  0.57672766\n",
      "   0.17854116  0.1237756 ]]\n"
     ]
    },
    {
     "data": {
      "image/png": "[encoded data removed]",
      "text/plain": [
       "<Figure size 432x288 with 1 Axes>"
      ]
     },
     "metadata": {
      "needs_background": "light"
     },
     "output_type": "display_data"
    }
   ],
   "source": [
    "# run on submission data\n",
    "data_sub = ch.load_data('../data/test_month_3.csv')\n",
    "X_sub, y_sub = sample_agnostic_transformation(data_sub)\n",
    "\n",
    "# make prediction on test\n",
    "y_pred_test_sub_pos = clf.predict_proba(X_sub)[:,1]\n",
    "\n",
    "df = pd.DataFrame({'ID': data_sub.client_id,'PROB':y_pred_test_sub_pos})\n",
    "today = dt.datetime.today()\n",
    "df.to_csv(f'../output/lrint_{today.month}{today.day}.csv', index = False)\n",
    "sns.histplot(df['PROB'])\n",
    "print(clf['logistic'].coef_)"
   ]
  },
  {
   "cell_type": "code",
   "execution_count": 10,
   "id": "90879b88-01fa-4b26-8c51-973413ce9f4a",
   "metadata": {},
   "outputs": [
    {
     "data": {
      "text/html": [
       "<style>#sk-27811f7b-1884-47b4-9e53-867e7607d33b {color: black;background-color: white;}#sk-27811f7b-1884-47b4-9e53-867e7607d33b pre{padding: 0;}#sk-27811f7b-1884-47b4-9e53-867e7607d33b div.sk-toggleable {background-color: white;}#sk-27811f7b-1884-47b4-9e53-867e7607d33b label.sk-toggleable__label {cursor: pointer;display: block;width: 100%;margin-bottom: 0;padding: 0.3em;box-sizing: border-box;text-align: center;}#sk-27811f7b-1884-47b4-9e53-867e7607d33b label.sk-toggleable__label-arrow:before {content: \"▸\";float: left;margin-right: 0.25em;color: #696969;}#sk-27811f7b-1884-47b4-9e53-867e7607d33b label.sk-toggleable__label-arrow:hover:before {color: black;}#sk-27811f7b-1884-47b4-9e53-867e7607d33b div.sk-estimator:hover label.sk-toggleable__label-arrow:before {color: black;}#sk-27811f7b-1884-47b4-9e53-867e7607d33b div.sk-toggleable__content {max-height: 0;max-width: 0;overflow: hidden;text-align: left;background-color: #f0f8ff;}#sk-27811f7b-1884-47b4-9e53-867e7607d33b div.sk-toggleable__content pre {margin: 0.2em;color: black;border-radius: 0.25em;background-color: #f0f8ff;}#sk-27811f7b-1884-47b4-9e53-867e7607d33b input.sk-toggleable__control:checked~div.sk-toggleable__content {max-height: 200px;max-width: 100%;overflow: auto;}#sk-27811f7b-1884-47b4-9e53-867e7607d33b input.sk-toggleable__control:checked~label.sk-toggleable__label-arrow:before {content: \"▾\";}#sk-27811f7b-1884-47b4-9e53-867e7607d33b div.sk-estimator input.sk-toggleable__control:checked~label.sk-toggleable__label {background-color: #d4ebff;}#sk-27811f7b-1884-47b4-9e53-867e7607d33b div.sk-label input.sk-toggleable__control:checked~label.sk-toggleable__label {background-color: #d4ebff;}#sk-27811f7b-1884-47b4-9e53-867e7607d33b input.sk-hidden--visually {border: 0;clip: rect(1px 1px 1px 1px);clip: rect(1px, 1px, 1px, 1px);height: 1px;margin: -1px;overflow: hidden;padding: 0;position: absolute;width: 1px;}#sk-27811f7b-1884-47b4-9e53-867e7607d33b div.sk-estimator {font-family: monospace;background-color: #f0f8ff;border: 1px dotted black;border-radius: 0.25em;box-sizing: border-box;margin-bottom: 0.5em;}#sk-27811f7b-1884-47b4-9e53-867e7607d33b div.sk-estimator:hover {background-color: #d4ebff;}#sk-27811f7b-1884-47b4-9e53-867e7607d33b div.sk-parallel-item::after {content: \"\";width: 100%;border-bottom: 1px solid gray;flex-grow: 1;}#sk-27811f7b-1884-47b4-9e53-867e7607d33b div.sk-label:hover label.sk-toggleable__label {background-color: #d4ebff;}#sk-27811f7b-1884-47b4-9e53-867e7607d33b div.sk-serial::before {content: \"\";position: absolute;border-left: 1px solid gray;box-sizing: border-box;top: 2em;bottom: 0;left: 50%;}#sk-27811f7b-1884-47b4-9e53-867e7607d33b div.sk-serial {display: flex;flex-direction: column;align-items: center;background-color: white;padding-right: 0.2em;padding-left: 0.2em;}#sk-27811f7b-1884-47b4-9e53-867e7607d33b div.sk-item {z-index: 1;}#sk-27811f7b-1884-47b4-9e53-867e7607d33b div.sk-parallel {display: flex;align-items: stretch;justify-content: center;background-color: white;}#sk-27811f7b-1884-47b4-9e53-867e7607d33b div.sk-parallel::before {content: \"\";position: absolute;border-left: 1px solid gray;box-sizing: border-box;top: 2em;bottom: 0;left: 50%;}#sk-27811f7b-1884-47b4-9e53-867e7607d33b div.sk-parallel-item {display: flex;flex-direction: column;position: relative;background-color: white;}#sk-27811f7b-1884-47b4-9e53-867e7607d33b div.sk-parallel-item:first-child::after {align-self: flex-end;width: 50%;}#sk-27811f7b-1884-47b4-9e53-867e7607d33b div.sk-parallel-item:last-child::after {align-self: flex-start;width: 50%;}#sk-27811f7b-1884-47b4-9e53-867e7607d33b div.sk-parallel-item:only-child::after {width: 0;}#sk-27811f7b-1884-47b4-9e53-867e7607d33b div.sk-dashed-wrapped {border: 1px dashed gray;margin: 0 0.4em 0.5em 0.4em;box-sizing: border-box;padding-bottom: 0.4em;background-color: white;position: relative;}#sk-27811f7b-1884-47b4-9e53-867e7607d33b div.sk-label label {font-family: monospace;font-weight: bold;background-color: white;display: inline-block;line-height: 1.2em;}#sk-27811f7b-1884-47b4-9e53-867e7607d33b div.sk-label-container {position: relative;z-index: 2;text-align: center;}#sk-27811f7b-1884-47b4-9e53-867e7607d33b div.sk-container {/* jupyter's `normalize.less` sets `[hidden] { display: none; }` but bootstrap.min.css set `[hidden] { display: none !important; }` so we also need the `!important` here to be able to override the default hidden behavior on the sphinx rendered scikit-learn.org. See: https://github.com/scikit-learn/scikit-learn/issues/21755 */display: inline-block !important;position: relative;}#sk-27811f7b-1884-47b4-9e53-867e7607d33b div.sk-text-repr-fallback {display: none;}</style><div id=\"sk-27811f7b-1884-47b4-9e53-867e7607d33b\" class=\"sk-top-container\"><div class=\"sk-text-repr-fallback\"><pre>Pipeline(steps=[(&#x27;preprocessor&#x27;,\n",
       "                 ColumnTransformer(remainder=&#x27;passthrough&#x27;,\n",
       "                                   transformers=[(&#x27;drop_ID&#x27;, &#x27;drop&#x27;,\n",
       "                                                  &lt;sklearn.compose._column_transformer.make_column_selector object at 0x7fbaedf7a6a0&gt;),\n",
       "                                                 (&#x27;drop_dates&#x27;, &#x27;drop&#x27;,\n",
       "                                                  &lt;sklearn.compose._column_transformer.make_column_selector object at 0x7fbaee5bd850&gt;),\n",
       "                                                 (&#x27;cat&#x27;,\n",
       "                                                  OneHotEncoder(drop=&#x27;first&#x27;,\n",
       "                                                                handle_unknown=&#x27;ignore&#x27;),\n",
       "                                                  &lt;sklearn.compose._column_transformer.make_column_selector object at 0x7fbaee5bd8e0&gt;),\n",
       "                                                 (&#x27;num&#x27;,\n",
       "                                                  Pipeline(steps=[(&#x27;impute&#x27;,\n",
       "                                                                   SimpleImputer(strategy=&#x27;median&#x27;)),\n",
       "                                                                  (&#x27;scale&#x27;,\n",
       "                                                                   StandardScaler())]),\n",
       "                                                  &lt;sklearn.compose._column_transformer.make_column_selector object at 0x7fbaee5bda30&gt;)])),\n",
       "                (&#x27;logistic&#x27;,\n",
       "                 LogisticRegression(C=0.0016681005372000592,\n",
       "                                    class_weight=&#x27;balanced&#x27;, max_iter=10000,\n",
       "                                    tol=0.5))])</pre><b>Please rerun this cell to show the HTML repr or trust the notebook.</b></div><div class=\"sk-container\" hidden><div class=\"sk-item sk-dashed-wrapped\"><div class=\"sk-label-container\"><div class=\"sk-label sk-toggleable\"><input class=\"sk-toggleable__control sk-hidden--visually\" id=\"6dc98991-9944-4f66-bc1a-79fef88c8772\" type=\"checkbox\" ><label for=\"6dc98991-9944-4f66-bc1a-79fef88c8772\" class=\"sk-toggleable__label sk-toggleable__label-arrow\">Pipeline</label><div class=\"sk-toggleable__content\"><pre>Pipeline(steps=[(&#x27;preprocessor&#x27;,\n",
       "                 ColumnTransformer(remainder=&#x27;passthrough&#x27;,\n",
       "                                   transformers=[(&#x27;drop_ID&#x27;, &#x27;drop&#x27;,\n",
       "                                                  &lt;sklearn.compose._column_transformer.make_column_selector object at 0x7fbaedf7a6a0&gt;),\n",
       "                                                 (&#x27;drop_dates&#x27;, &#x27;drop&#x27;,\n",
       "                                                  &lt;sklearn.compose._column_transformer.make_column_selector object at 0x7fbaee5bd850&gt;),\n",
       "                                                 (&#x27;cat&#x27;,\n",
       "                                                  OneHotEncoder(drop=&#x27;first&#x27;,\n",
       "                                                                handle_unknown=&#x27;ignore&#x27;),\n",
       "                                                  &lt;sklearn.compose._column_transformer.make_column_selector object at 0x7fbaee5bd8e0&gt;),\n",
       "                                                 (&#x27;num&#x27;,\n",
       "                                                  Pipeline(steps=[(&#x27;impute&#x27;,\n",
       "                                                                   SimpleImputer(strategy=&#x27;median&#x27;)),\n",
       "                                                                  (&#x27;scale&#x27;,\n",
       "                                                                   StandardScaler())]),\n",
       "                                                  &lt;sklearn.compose._column_transformer.make_column_selector object at 0x7fbaee5bda30&gt;)])),\n",
       "                (&#x27;logistic&#x27;,\n",
       "                 LogisticRegression(C=0.0016681005372000592,\n",
       "                                    class_weight=&#x27;balanced&#x27;, max_iter=10000,\n",
       "                                    tol=0.5))])</pre></div></div></div><div class=\"sk-serial\"><div class=\"sk-item sk-dashed-wrapped\"><div class=\"sk-label-container\"><div class=\"sk-label sk-toggleable\"><input class=\"sk-toggleable__control sk-hidden--visually\" id=\"37090d89-69db-4997-8103-e24d0cf7387e\" type=\"checkbox\" ><label for=\"37090d89-69db-4997-8103-e24d0cf7387e\" class=\"sk-toggleable__label sk-toggleable__label-arrow\">preprocessor: ColumnTransformer</label><div class=\"sk-toggleable__content\"><pre>ColumnTransformer(remainder=&#x27;passthrough&#x27;,\n",
       "                  transformers=[(&#x27;drop_ID&#x27;, &#x27;drop&#x27;,\n",
       "                                 &lt;sklearn.compose._column_transformer.make_column_selector object at 0x7fbaedf7a6a0&gt;),\n",
       "                                (&#x27;drop_dates&#x27;, &#x27;drop&#x27;,\n",
       "                                 &lt;sklearn.compose._column_transformer.make_column_selector object at 0x7fbaee5bd850&gt;),\n",
       "                                (&#x27;cat&#x27;,\n",
       "                                 OneHotEncoder(drop=&#x27;first&#x27;,\n",
       "                                               handle_unknown=&#x27;ignore&#x27;),\n",
       "                                 &lt;sklearn.compose._column_transformer.make_column_selector object at 0x7fbaee5bd8e0&gt;),\n",
       "                                (&#x27;num&#x27;,\n",
       "                                 Pipeline(steps=[(&#x27;impute&#x27;,\n",
       "                                                  SimpleImputer(strategy=&#x27;median&#x27;)),\n",
       "                                                 (&#x27;scale&#x27;, StandardScaler())]),\n",
       "                                 &lt;sklearn.compose._column_transformer.make_column_selector object at 0x7fbaee5bda30&gt;)])</pre></div></div></div><div class=\"sk-parallel\"><div class=\"sk-parallel-item\"><div class=\"sk-item\"><div class=\"sk-label-container\"><div class=\"sk-label sk-toggleable\"><input class=\"sk-toggleable__control sk-hidden--visually\" id=\"498be5b4-9c61-4317-a02a-979d174a0d85\" type=\"checkbox\" ><label for=\"498be5b4-9c61-4317-a02a-979d174a0d85\" class=\"sk-toggleable__label sk-toggleable__label-arrow\">drop_ID</label><div class=\"sk-toggleable__content\"><pre>&lt;sklearn.compose._column_transformer.make_column_selector object at 0x7fbaedf7a6a0&gt;</pre></div></div></div><div class=\"sk-serial\"><div class=\"sk-item\"><div class=\"sk-estimator sk-toggleable\"><input class=\"sk-toggleable__control sk-hidden--visually\" id=\"a8ddb0f4-04b1-4eaf-bf72-49ee2e2a3169\" type=\"checkbox\" ><label for=\"a8ddb0f4-04b1-4eaf-bf72-49ee2e2a3169\" class=\"sk-toggleable__label sk-toggleable__label-arrow\">drop</label><div class=\"sk-toggleable__content\"><pre>drop</pre></div></div></div></div></div></div><div class=\"sk-parallel-item\"><div class=\"sk-item\"><div class=\"sk-label-container\"><div class=\"sk-label sk-toggleable\"><input class=\"sk-toggleable__control sk-hidden--visually\" id=\"ab9a500d-50a9-4e37-9fef-a9a230755bf4\" type=\"checkbox\" ><label for=\"ab9a500d-50a9-4e37-9fef-a9a230755bf4\" class=\"sk-toggleable__label sk-toggleable__label-arrow\">drop_dates</label><div class=\"sk-toggleable__content\"><pre>&lt;sklearn.compose._column_transformer.make_column_selector object at 0x7fbaee5bd850&gt;</pre></div></div></div><div class=\"sk-serial\"><div class=\"sk-item\"><div class=\"sk-estimator sk-toggleable\"><input class=\"sk-toggleable__control sk-hidden--visually\" id=\"d6661077-dd42-4c1c-b56c-ce3f38f8a3a9\" type=\"checkbox\" ><label for=\"d6661077-dd42-4c1c-b56c-ce3f38f8a3a9\" class=\"sk-toggleable__label sk-toggleable__label-arrow\">drop</label><div class=\"sk-toggleable__content\"><pre>drop</pre></div></div></div></div></div></div><div class=\"sk-parallel-item\"><div class=\"sk-item\"><div class=\"sk-label-container\"><div class=\"sk-label sk-toggleable\"><input class=\"sk-toggleable__control sk-hidden--visually\" id=\"1afee8d6-8a98-44de-86a6-7a3d7ab3dc76\" type=\"checkbox\" ><label for=\"1afee8d6-8a98-44de-86a6-7a3d7ab3dc76\" class=\"sk-toggleable__label sk-toggleable__label-arrow\">cat</label><div class=\"sk-toggleable__content\"><pre>&lt;sklearn.compose._column_transformer.make_column_selector object at 0x7fbaee5bd8e0&gt;</pre></div></div></div><div class=\"sk-serial\"><div class=\"sk-item\"><div class=\"sk-estimator sk-toggleable\"><input class=\"sk-toggleable__control sk-hidden--visually\" id=\"1dd7b512-52de-4b2a-ae4e-42556d539835\" type=\"checkbox\" ><label for=\"1dd7b512-52de-4b2a-ae4e-42556d539835\" class=\"sk-toggleable__label sk-toggleable__label-arrow\">OneHotEncoder</label><div class=\"sk-toggleable__content\"><pre>OneHotEncoder(drop=&#x27;first&#x27;, handle_unknown=&#x27;ignore&#x27;)</pre></div></div></div></div></div></div><div class=\"sk-parallel-item\"><div class=\"sk-item\"><div class=\"sk-label-container\"><div class=\"sk-label sk-toggleable\"><input class=\"sk-toggleable__control sk-hidden--visually\" id=\"9dad14e1-27cb-4440-bd6c-89ad9761b85f\" type=\"checkbox\" ><label for=\"9dad14e1-27cb-4440-bd6c-89ad9761b85f\" class=\"sk-toggleable__label sk-toggleable__label-arrow\">num</label><div class=\"sk-toggleable__content\"><pre>&lt;sklearn.compose._column_transformer.make_column_selector object at 0x7fbaee5bda30&gt;</pre></div></div></div><div class=\"sk-serial\"><div class=\"sk-item\"><div class=\"sk-serial\"><div class=\"sk-item\"><div class=\"sk-estimator sk-toggleable\"><input class=\"sk-toggleable__control sk-hidden--visually\" id=\"1d4ff48c-2b13-412c-8760-f89deffb26be\" type=\"checkbox\" ><label for=\"1d4ff48c-2b13-412c-8760-f89deffb26be\" class=\"sk-toggleable__label sk-toggleable__label-arrow\">SimpleImputer</label><div class=\"sk-toggleable__content\"><pre>SimpleImputer(strategy=&#x27;median&#x27;)</pre></div></div></div><div class=\"sk-item\"><div class=\"sk-estimator sk-toggleable\"><input class=\"sk-toggleable__control sk-hidden--visually\" id=\"cf736a20-7137-4ce5-8127-2045883be80e\" type=\"checkbox\" ><label for=\"cf736a20-7137-4ce5-8127-2045883be80e\" class=\"sk-toggleable__label sk-toggleable__label-arrow\">StandardScaler</label><div class=\"sk-toggleable__content\"><pre>StandardScaler()</pre></div></div></div></div></div></div></div></div><div class=\"sk-parallel-item\"><div class=\"sk-item\"><div class=\"sk-label-container\"><div class=\"sk-label sk-toggleable\"><input class=\"sk-toggleable__control sk-hidden--visually\" id=\"e016fb58-3ef2-4b78-8d74-16e9ee807559\" type=\"checkbox\" ><label for=\"e016fb58-3ef2-4b78-8d74-16e9ee807559\" class=\"sk-toggleable__label sk-toggleable__label-arrow\">remainder</label><div class=\"sk-toggleable__content\"><pre>[&#x27;homebanking_active&#x27;, &#x27;has_life_insurance_decreasing_cap&#x27;, &#x27;has_current_account&#x27;, &#x27;has_personal_loan&#x27;, &#x27;customer_self_employed&#x27;]</pre></div></div></div><div class=\"sk-serial\"><div class=\"sk-item\"><div class=\"sk-estimator sk-toggleable\"><input class=\"sk-toggleable__control sk-hidden--visually\" id=\"c21a5a8e-9544-4e8d-b1e9-4ed3c7fc603a\" type=\"checkbox\" ><label for=\"c21a5a8e-9544-4e8d-b1e9-4ed3c7fc603a\" class=\"sk-toggleable__label sk-toggleable__label-arrow\">passthrough</label><div class=\"sk-toggleable__content\"><pre>passthrough</pre></div></div></div></div></div></div></div></div><div class=\"sk-item\"><div class=\"sk-estimator sk-toggleable\"><input class=\"sk-toggleable__control sk-hidden--visually\" id=\"b59d9992-f673-49f4-8250-d2135b5bd98a\" type=\"checkbox\" ><label for=\"b59d9992-f673-49f4-8250-d2135b5bd98a\" class=\"sk-toggleable__label sk-toggleable__label-arrow\">LogisticRegression</label><div class=\"sk-toggleable__content\"><pre>LogisticRegression(C=0.0016681005372000592, class_weight=&#x27;balanced&#x27;,\n",
       "                   max_iter=10000, tol=0.5)</pre></div></div></div></div></div></div></div>"
      ],
      "text/plain": [
       "Pipeline(steps=[('preprocessor',\n",
       "                 ColumnTransformer(remainder='passthrough',\n",
       "                                   transformers=[('drop_ID', 'drop',\n",
       "                                                  <sklearn.compose._column_transformer.make_column_selector object at 0x7fbaedf7a6a0>),\n",
       "                                                 ('drop_dates', 'drop',\n",
       "                                                  <sklearn.compose._column_transformer.make_column_selector object at 0x7fbaee5bd850>),\n",
       "                                                 ('cat',\n",
       "                                                  OneHotEncoder(drop='first',\n",
       "                                                                handle_unknown='ignore'),\n",
       "                                                  <sklearn.compose._column_transformer.make_column_selector object at 0x7fbaee5bd8e0>),\n",
       "                                                 ('num',\n",
       "                                                  Pipeline(steps=[('impute',\n",
       "                                                                   SimpleImputer(strategy='median')),\n",
       "                                                                  ('scale',\n",
       "                                                                   StandardScaler())]),\n",
       "                                                  <sklearn.compose._column_transformer.make_column_selector object at 0x7fbaee5bda30>)])),\n",
       "                ('logistic',\n",
       "                 LogisticRegression(C=0.0016681005372000592,\n",
       "                                    class_weight='balanced', max_iter=10000,\n",
       "                                    tol=0.5))])"
      ]
     },
     "execution_count": 10,
     "metadata": {},
     "output_type": "execute_result"
    }
   ],
   "source": [
    "from sklearn import set_config\n",
    "set_config(display=\"diagram\")\n",
    "search"
   ]
  },
  {
   "cell_type": "code",
   "execution_count": null,
   "id": "39007acf-3e8d-47cf-9765-b98f96b3c6e3",
   "metadata": {},
   "outputs": [],
   "source": []
  }
 ],
 "metadata": {
  "kernelspec": {
   "display_name": "Python 3 (ipykernel)",
   "language": "python",
   "name": "python3"
  },
  "language_info": {
   "codemirror_mode": {
    "name": "ipython",
    "version": 3
   },
   "file_extension": ".py",
   "mimetype": "text/x-python",
   "name": "python",
   "nbconvert_exporter": "python",
   "pygments_lexer": "ipython3",
   "version": "3.9.7"
  }
 },
 "nbformat": 4,
 "nbformat_minor": 5
}
