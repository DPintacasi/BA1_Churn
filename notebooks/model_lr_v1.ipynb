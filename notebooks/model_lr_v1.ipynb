{
 "cells": [
  {
   "cell_type": "code",
   "execution_count": 1,
   "id": "d29a1d7b",
   "metadata": {},
   "outputs": [],
   "source": [
    "%matplotlib inline\n",
    "import numpy as np\n",
    "\n",
    "import pandas as pd\n",
    "import matplotlib.pyplot as plt\n",
    "import seaborn as sns\n",
    "import datetime as dt\n",
    "\n",
    "from sklearn.compose import ColumnTransformer\n",
    "from sklearn.impute import SimpleImputer\n",
    "from sklearn.preprocessing import StandardScaler, OneHotEncoder, KBinsDiscretizer\n",
    "from sklearn.linear_model import LogisticRegression, LogisticRegressionCV\n",
    "from sklearn.model_selection import train_test_split, GridSearchCV\n",
    "from imblearn.pipeline import Pipeline\n",
    "\n",
    "import custom_helpers as ch\n",
    "\n",
    "np.random.seed(0)"
   ]
  },
  {
   "cell_type": "code",
   "execution_count": 2,
   "id": "64a45b5c-51b6-4140-a5f0-defd5552ce0a",
   "metadata": {},
   "outputs": [
    {
     "name": "stdout",
     "output_type": "stream",
     "text": [
      "------------------------------------------------------------\n",
      "loading data...\n",
      "transforming dates...\n",
      "cast types into bool, object, categorical...\n",
      "data loaded and casted\n",
      "------------------------------------------------------------\n",
      "<class 'pandas.core.frame.DataFrame'>\n",
      "RangeIndex: 63697 entries, 0 to 63696\n",
      "Data columns (total 43 columns):\n",
      " #   Column                             Non-Null Count  Dtype         \n",
      "---  ------                             --------------  -----         \n",
      " 0   client_id                          63697 non-null  object        \n",
      " 1   homebanking_active                 63697 non-null  bool          \n",
      " 2   has_homebanking                    63697 non-null  bool          \n",
      " 3   has_insurance_21                   63697 non-null  bool          \n",
      " 4   has_insurance_23                   63697 non-null  bool          \n",
      " 5   has_life_insurance_fixed_cap       63697 non-null  bool          \n",
      " 6   has_life_insurance_decreasing_cap  63697 non-null  bool          \n",
      " 7   has_fire_car_other_insurance       63697 non-null  bool          \n",
      " 8   has_personal_loan                  63697 non-null  bool          \n",
      " 9   has_mortgage_loan                  63697 non-null  bool          \n",
      " 10  has_current_account                63697 non-null  bool          \n",
      " 11  has_pension_saving                 63697 non-null  bool          \n",
      " 12  has_savings_account                63697 non-null  bool          \n",
      " 13  has_savings_account_starter        63697 non-null  bool          \n",
      " 14  has_current_account_starter        63697 non-null  bool          \n",
      " 15  bal_insurance_21                   63697 non-null  int64         \n",
      " 16  bal_insurance_23                   63697 non-null  int64         \n",
      " 17  cap_life_insurance_fixed_cap       63697 non-null  int64         \n",
      " 18  cap_life_insurance_decreasing_cap  63697 non-null  int64         \n",
      " 19  prem_fire_car_other_insurance      63697 non-null  int64         \n",
      " 20  bal_personal_loan                  63697 non-null  int64         \n",
      " 21  bal_mortgage_loan                  63697 non-null  int64         \n",
      " 22  bal_current_account                63697 non-null  int64         \n",
      " 23  bal_pension_saving                 63697 non-null  int64         \n",
      " 24  bal_savings_account                63697 non-null  int64         \n",
      " 25  bal_savings_account_starter        63697 non-null  int64         \n",
      " 26  bal_current_account_starter        63697 non-null  int64         \n",
      " 27  visits_distinct_so                 63697 non-null  float64       \n",
      " 28  visits_distinct_so_areas           63697 non-null  float64       \n",
      " 29  customer_since_all                 63463 non-null  datetime64[ns]\n",
      " 30  customer_since_bank                63448 non-null  datetime64[ns]\n",
      " 31  customer_gender                    63697 non-null  bool          \n",
      " 32  customer_birth_date                63697 non-null  datetime64[ns]\n",
      " 33  customer_postal_code               63697 non-null  object        \n",
      " 34  customer_occupation_code           63697 non-null  category      \n",
      " 35  customer_self_employed             63697 non-null  bool          \n",
      " 36  customer_education                 63697 non-null  category      \n",
      " 37  customer_children                  63697 non-null  category      \n",
      " 38  customer_relationship              63697 non-null  category      \n",
      " 39  target                             63697 non-null  bool          \n",
      " 40  customer_since_all_years           63463 non-null  float64       \n",
      " 41  customer_since_bank_years          63448 non-null  float64       \n",
      " 42  customer_age                       63697 non-null  int64         \n",
      "dtypes: bool(17), category(4), datetime64[ns](3), float64(4), int64(13), object(2)\n",
      "memory usage: 12.0+ MB\n",
      "None\n"
     ]
    }
   ],
   "source": [
    "df = ch.load_data('../data/train_month_3_with_target.csv')\n",
    "print(df.info())"
   ]
  },
  {
   "cell_type": "code",
   "execution_count": 3,
   "id": "3f222762",
   "metadata": {},
   "outputs": [],
   "source": [
    "#non sample-dependent transformations\n",
    "def sample_agnostic_transformation(data):\n",
    "    \n",
    "    # num_col = data.select_dtypes(include = 'number', exclude = 'bool').columns\n",
    "    # for col in num_col:\n",
    "    #     data[col] = data[col].fillna(value = np.nan)\n",
    "    \n",
    "    selected_col = [\n",
    "            'homebanking_active'\n",
    "              ,'has_homebanking'\n",
    "              ,'bal_mortgage_loan'\n",
    "              ,'has_life_insurance_decreasing_cap'\n",
    "              ,'has_mortgage_loan'\n",
    "              ,'has_current_account'\n",
    "              ,'cap_life_insurance_decreasing_cap'\n",
    "              ,'bal_savings_account'\n",
    "              ,'bal_current_account'\n",
    "              ,'has_personal_loan'\n",
    "              ,'bal_personal_loan'\n",
    "              ,'customer_since_all_years'\n",
    "              ,'customer_since_bank_years'\n",
    "              ,'customer_age'   \n",
    "         ]\n",
    "    \n",
    "    \n",
    "    if 'target' in data.columns:\n",
    "        y = data.target\n",
    "        X = data.drop(columns = ['target'])\n",
    "        X = X[selected_col]\n",
    "    else:\n",
    "        X = data[selected_col]\n",
    "        y = 0\n",
    "        \n",
    "    return X, y\n",
    "\n",
    "X, y = sample_agnostic_transformation(df)"
   ]
  },
  {
   "cell_type": "code",
   "execution_count": 4,
   "id": "4fcef6b4-25cd-4aa8-b932-918bee44a3f3",
   "metadata": {},
   "outputs": [],
   "source": [
    "# sample dependent column specific preprocessing\n",
    "X_train, X_test, y_train, y_test = train_test_split(X, y, test_size=0.5, random_state=42)\n",
    "\n",
    "\n",
    "num_col = X_train.select_dtypes(include = 'number', exclude = 'bool').columns\n",
    "cat_col = X_train.select_dtypes(include = 'category').columns\n",
    "bool_col = X_train.select_dtypes(include = 'bool').columns\n",
    "date_col = X_train.select_dtypes(include = 'datetime64').columns\n",
    "obj_col = X_train.select_dtypes(include = 'object').columns"
   ]
  },
  {
   "cell_type": "code",
   "execution_count": 5,
   "id": "b9f0284e-1a28-4101-85c2-bb9522489526",
   "metadata": {},
   "outputs": [],
   "source": [
    "from sklearn.preprocessing import FunctionTransformer, KBinsDiscretizer\n",
    "\n",
    "numeric_transformer = Pipeline(steps = [\n",
    "    ('impute',SimpleImputer(missing_values=np.nan, strategy='median')),\n",
    "    ('scale', StandardScaler())\n",
    "])\n",
    "\n",
    "categorical_transformer = OneHotEncoder(drop = 'first',handle_unknown=\"ignore\")\n",
    "\n",
    "preprocessor = ColumnTransformer(\n",
    "    transformers=[\n",
    "        ('drop_ID','drop',obj_col),\n",
    "        ('drop_dates','drop',date_col),\n",
    "        ('cat',categorical_transformer,cat_col),\n",
    "        ('num',numeric_transformer,num_col)\n",
    "    ],\n",
    "    remainder = \"passthrough\"\n",
    ")\n",
    "\n",
    "f = preprocessor.fit_transform(X_train)\n",
    "f = pd.DataFrame(f)"
   ]
  },
  {
   "cell_type": "raw",
   "id": "a123da29-788f-4091-8b3a-aaee0f021726",
   "metadata": {},
   "source": [
    "from sklearn.preprocessing import FunctionTransformer, KBinsDiscretizer\n",
    "\n",
    "binner = Pipeline(steps=[\n",
    "    ('impute',SimpleImputer(missing_values=np.nan, strategy='median'))\n",
    "    ,('bin',KBinsDiscretizer(n_bins=4, encode='ordinal'))\n",
    "])\n",
    "\n",
    "preprocessor = ColumnTransformer(\n",
    "    transformers=[\n",
    "        ('impute',SimpleImputer(missing_values=np.nan, strategy='median'),num_col)\n",
    "\n",
    "    ],\n",
    "    remainder = \"passthrough\"\n",
    ")\n",
    "\n",
    "f = preprocessor.fit_transform(X_train)\n",
    "pd.DataFrame(f).isna().sum()"
   ]
  },
  {
   "cell_type": "code",
   "execution_count": 6,
   "id": "ae78a1bf",
   "metadata": {},
   "outputs": [
    {
     "name": "stdout",
     "output_type": "stream",
     "text": [
      "------------------------------------------------------------\n",
      "Performance Over Whole Set\n",
      "------------------------------------------------------------\n",
      "               precision    recall  f1-score   support\n",
      "\n",
      "Did not Churn       0.98      0.67      0.80     30889\n",
      "        Churn       0.06      0.65      0.11       960\n",
      "\n",
      "     accuracy                           0.67     31849\n",
      "    macro avg       0.52      0.66      0.45     31849\n",
      " weighted avg       0.96      0.67      0.78     31849\n",
      "\n",
      "AUC: 0.66 \n",
      "\n",
      "------------------------------------------------------------\n",
      "No. of TP (precision@250): 44\n",
      "AUC: 0.500\n",
      "------------------------------------------------------------\n"
     ]
    }
   ],
   "source": [
    "# FIRST ROUND TEST\n",
    "\n",
    "lr = LogisticRegression(class_weight = 'balanced')\n",
    "# lr = LogisticRegression()\n",
    "\n",
    "#pipeline\n",
    "pipe = Pipeline(\n",
    "    steps=[(\"preprocessor\", preprocessor),(\"classifier\", lr)]\n",
    ")\n",
    "\n",
    "\n",
    "# train \n",
    "clf = pipe.fit(X_train,y_train)\n",
    "\n",
    "# make prediction on test\n",
    "y_pred_test = clf.predict(X_test)\n",
    "y_pred_test_probs = clf.predict_proba(X_test)\n",
    "\n",
    "ch.evaluate(y_test, y_pred_test, y_pred_test_probs)"
   ]
  },
  {
   "cell_type": "code",
   "execution_count": 7,
   "id": "9b1f11f4-e57b-47b1-8c9e-752830834722",
   "metadata": {},
   "outputs": [
    {
     "name": "stdout",
     "output_type": "stream",
     "text": [
      "LogisticRegression()\n",
      "------------------------------------------------------------\n",
      "Performance Over Whole Set\n",
      "------------------------------------------------------------\n",
      "               precision    recall  f1-score   support\n",
      "\n",
      "Did not Churn       0.97      1.00      0.98     30889\n",
      "        Churn       0.00      0.00      0.00       960\n",
      "\n",
      "     accuracy                           0.97     31849\n",
      "    macro avg       0.48      0.50      0.49     31849\n",
      " weighted avg       0.94      0.97      0.96     31849\n",
      "\n",
      "AUC: 0.50 \n",
      "\n",
      "------------------------------------------------------------\n",
      "No. of TP (precision@250): 0\n",
      "AUC: 0.498\n",
      "------------------------------------------------------------\n",
      "\n",
      "\n",
      "LogisticRegression(class_weight='balanced')\n",
      "------------------------------------------------------------\n",
      "Performance Over Whole Set\n",
      "------------------------------------------------------------\n",
      "               precision    recall  f1-score   support\n",
      "\n",
      "Did not Churn       0.98      0.67      0.80     30889\n",
      "        Churn       0.06      0.65      0.11       960\n",
      "\n",
      "     accuracy                           0.67     31849\n",
      "    macro avg       0.52      0.66      0.45     31849\n",
      " weighted avg       0.96      0.67      0.78     31849\n",
      "\n",
      "AUC: 0.66 \n",
      "\n",
      "------------------------------------------------------------\n",
      "No. of TP (precision@250): 44\n",
      "AUC: 0.500\n",
      "------------------------------------------------------------\n",
      "\n",
      "\n",
      "LogisticRegressionCV(class_weight='balanced', cv=5, random_state=0)\n",
      "------------------------------------------------------------\n",
      "Performance Over Whole Set\n",
      "------------------------------------------------------------\n",
      "               precision    recall  f1-score   support\n",
      "\n",
      "Did not Churn       0.98      0.73      0.84     30889\n",
      "        Churn       0.06      0.56      0.11       960\n",
      "\n",
      "     accuracy                           0.72     31849\n",
      "    macro avg       0.52      0.65      0.47     31849\n",
      " weighted avg       0.95      0.72      0.81     31849\n",
      "\n",
      "AUC: 0.65 \n",
      "\n",
      "------------------------------------------------------------\n",
      "No. of TP (precision@250): 40\n",
      "AUC: 0.500\n",
      "------------------------------------------------------------\n",
      "\n",
      "\n"
     ]
    },
    {
     "data": {
      "text/plain": [
       "<Figure size 432x288 with 0 Axes>"
      ]
     },
     "metadata": {},
     "output_type": "display_data"
    },
    {
     "data": {
      "image/png": "[encoded data removed]",
      "text/plain": [
       "<Figure size 432x288 with 1 Axes>"
      ]
     },
     "metadata": {
      "needs_background": "light"
     },
     "output_type": "display_data"
    },
    {
     "data": {
      "image/png": "[encoded data removed]",
      "text/plain": [
       "<Figure size 432x288 with 1 Axes>"
      ]
     },
     "metadata": {
      "needs_background": "light"
     },
     "output_type": "display_data"
    },
    {
     "data": {
      "image/png": "[encoded data removed]",
      "text/plain": [
       "<Figure size 432x288 with 1 Axes>"
      ]
     },
     "metadata": {
      "needs_background": "light"
     },
     "output_type": "display_data"
    }
   ],
   "source": [
    "from sklearn.metrics import RocCurveDisplay\n",
    "lr_nob = LogisticRegression()\n",
    "lr = LogisticRegression(class_weight = 'balanced')\n",
    "lrcv_5 = LogisticRegressionCV(cv = 5, random_state=0, class_weight = 'balanced' )\n",
    "lrcv_10 = LogisticRegressionCV(cv = 10, random_state=0, class_weight = 'balanced')\n",
    "\n",
    "models = [lr_nob,lr,lrcv_5]\n",
    "plt.figure()\n",
    "for model in models:\n",
    "    pipe = Pipeline(\n",
    "    steps=[(\"preprocessor\", preprocessor),(\"classifier\", model)]\n",
    "    )\n",
    "\n",
    "    # train \n",
    "    clf = pipe.fit(X_train,y_train)\n",
    "    \n",
    "    ax = RocCurveDisplay.from_estimator(clf, X_test, y_test)\n",
    "\n",
    "    # make prediction on test\n",
    "    y_pred_test = clf.predict(X_test)\n",
    "    y_pred_test_probs = clf.predict_proba(X_test)\n",
    "    \n",
    "    print(model)\n",
    "    ch.evaluate(y_test, y_pred_test, y_pred_test_probs)\n",
    "    print('\\n')\n"
   ]
  },
  {
   "cell_type": "code",
   "execution_count": 8,
   "id": "af97c8bf-f8d0-4d3b-8329-22bddf5f4e40",
   "metadata": {},
   "outputs": [],
   "source": [
    "# # run on submission data\n",
    "# data_sub = pd.read_csv('../data/test_month_3.csv',parse_dates = [29,30,32], index_col = 'client_id')\n",
    "# X_sub, y_sub = sample_agnostic_transformation(data_sub)\n",
    "\n",
    "# #pipeline\n",
    "# pipe = Pipeline(\n",
    "#     steps=[(\"preprocessor\", preprocessor),(\"classifier\", lrcv_5)]\n",
    "# )\n",
    "\n",
    "\n",
    "# # train \n",
    "# clf = pipe.fit(X_train,y_train)\n",
    "\n",
    "# # make prediction on test\n",
    "# y_pred_sub = clf.predict(X_sub)\n",
    "# y_pred_test_sub = clf.predict_proba(X_sub)\n",
    "# y_pred_test_sub_pos = [x[1] for x in y_pred_test_sub]\n",
    "\n",
    "# df = pd.DataFrame({'ID': X_sub.index,'PROB':y_pred_test_sub_pos})\n",
    "# today\n",
    "# df.to_csv(f'../output/lr_{today.month}{today.day}.csv', index = False)"
   ]
  },
  {
   "cell_type": "code",
   "execution_count": null,
   "id": "7b8a21a2-7d0f-4e09-95d5-0a6af0d7106f",
   "metadata": {},
   "outputs": [],
   "source": []
  }
 ],
 "metadata": {
  "kernelspec": {
   "display_name": "Python 3 (ipykernel)",
   "language": "python",
   "name": "python3"
  },
  "language_info": {
   "codemirror_mode": {
    "name": "ipython",
    "version": 3
   },
   "file_extension": ".py",
   "mimetype": "text/x-python",
   "name": "python",
   "nbconvert_exporter": "python",
   "pygments_lexer": "ipython3",
   "version": "3.9.7"
  }
 },
 "nbformat": 4,
 "nbformat_minor": 5
}
