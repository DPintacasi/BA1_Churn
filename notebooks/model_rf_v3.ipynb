{
 "cells": [
  {
   "cell_type": "code",
   "execution_count": 1,
   "id": "23addd8a",
   "metadata": {},
   "outputs": [],
   "source": [
    "%matplotlib inline\n",
    "import numpy as np\n",
    "\n",
    "import pandas as pd\n",
    "import matplotlib.pyplot as plt\n",
    "import seaborn as sns\n",
    "import datetime as dt\n",
    "\n",
    "from sklearn.compose import ColumnTransformer\n",
    "from sklearn.impute import SimpleImputer\n",
    "from sklearn.preprocessing import StandardScaler, OneHotEncoder, KBinsDiscretizer\n",
    "from sklearn.linear_model import LogisticRegression, LogisticRegressionCV\n",
    "from sklearn.model_selection import train_test_split, GridSearchCV\n",
    "from imblearn.pipeline import Pipeline\n",
    "\n",
    "import custom_helpers as ch\n",
    "\n",
    "# np.random.seed(0)"
   ]
  },
  {
   "cell_type": "code",
   "execution_count": 2,
   "id": "5919e6be",
   "metadata": {},
   "outputs": [
    {
     "name": "stdout",
     "output_type": "stream",
     "text": [
      "------------------------------------------------------------\n",
      "loading data...\n",
      "transforming dates...\n",
      "cast types into bool, object, categorical...\n",
      "data loaded and casted\n",
      "------------------------------------------------------------\n",
      "<class 'pandas.core.frame.DataFrame'>\n",
      "RangeIndex: 63697 entries, 0 to 63696\n",
      "Data columns (total 43 columns):\n",
      " #   Column                             Non-Null Count  Dtype         \n",
      "---  ------                             --------------  -----         \n",
      " 0   client_id                          63697 non-null  object        \n",
      " 1   homebanking_active                 63697 non-null  bool          \n",
      " 2   has_homebanking                    63697 non-null  bool          \n",
      " 3   has_insurance_21                   63697 non-null  bool          \n",
      " 4   has_insurance_23                   63697 non-null  bool          \n",
      " 5   has_life_insurance_fixed_cap       63697 non-null  bool          \n",
      " 6   has_life_insurance_decreasing_cap  63697 non-null  bool          \n",
      " 7   has_fire_car_other_insurance       63697 non-null  bool          \n",
      " 8   has_personal_loan                  63697 non-null  bool          \n",
      " 9   has_mortgage_loan                  63697 non-null  bool          \n",
      " 10  has_current_account                63697 non-null  bool          \n",
      " 11  has_pension_saving                 63697 non-null  bool          \n",
      " 12  has_savings_account                63697 non-null  bool          \n",
      " 13  has_savings_account_starter        63697 non-null  bool          \n",
      " 14  has_current_account_starter        63697 non-null  bool          \n",
      " 15  bal_insurance_21                   63697 non-null  int64         \n",
      " 16  bal_insurance_23                   63697 non-null  int64         \n",
      " 17  cap_life_insurance_fixed_cap       63697 non-null  int64         \n",
      " 18  cap_life_insurance_decreasing_cap  63697 non-null  int64         \n",
      " 19  prem_fire_car_other_insurance      63697 non-null  int64         \n",
      " 20  bal_personal_loan                  63697 non-null  int64         \n",
      " 21  bal_mortgage_loan                  63697 non-null  int64         \n",
      " 22  bal_current_account                63697 non-null  int64         \n",
      " 23  bal_pension_saving                 63697 non-null  int64         \n",
      " 24  bal_savings_account                63697 non-null  int64         \n",
      " 25  bal_savings_account_starter        63697 non-null  int64         \n",
      " 26  bal_current_account_starter        63697 non-null  int64         \n",
      " 27  visits_distinct_so                 63697 non-null  float64       \n",
      " 28  visits_distinct_so_areas           63697 non-null  float64       \n",
      " 29  customer_since_all                 63463 non-null  datetime64[ns]\n",
      " 30  customer_since_bank                63448 non-null  datetime64[ns]\n",
      " 31  customer_gender                    63697 non-null  bool          \n",
      " 32  customer_birth_date                63697 non-null  datetime64[ns]\n",
      " 33  customer_postal_code               63697 non-null  object        \n",
      " 34  customer_occupation_code           63697 non-null  category      \n",
      " 35  customer_self_employed             63697 non-null  bool          \n",
      " 36  customer_education                 63697 non-null  category      \n",
      " 37  customer_children                  63697 non-null  category      \n",
      " 38  customer_relationship              63697 non-null  category      \n",
      " 39  target                             63697 non-null  bool          \n",
      " 40  customer_since_all_years           63463 non-null  float64       \n",
      " 41  customer_since_bank_years          63448 non-null  float64       \n",
      " 42  customer_age                       63697 non-null  int64         \n",
      "dtypes: bool(17), category(4), datetime64[ns](3), float64(4), int64(13), object(2)\n",
      "memory usage: 12.0+ MB\n",
      "None\n"
     ]
    }
   ],
   "source": [
    "# load data with helper function\n",
    "data = ch.load_data('../data/train_month_3_with_target.csv')\n",
    "print(data.info())"
   ]
  },
  {
   "cell_type": "markdown",
   "id": "ffe7be01",
   "metadata": {},
   "source": [
    "# Preprocessing"
   ]
  },
  {
   "cell_type": "code",
   "execution_count": 3,
   "id": "9f0aad3e",
   "metadata": {},
   "outputs": [],
   "source": [
    "y = data.target\n",
    "X = data.drop(columns = ['target'])\n",
    "\n",
    "X_train, X_test, y_train, y_test = train_test_split(X, y, test_size=0.5, stratify = y, random_state=42)\n",
    "\n",
    "num_col = X_train.select_dtypes(include = 'number', exclude = 'bool').columns\n",
    "cat_col = X_train.select_dtypes(include = 'category').columns\n",
    "bool_col = X_train.select_dtypes(include = 'bool').columns\n",
    "date_col = X_train.select_dtypes(include = 'datetime64').columns\n",
    "obj_col = X_train.select_dtypes(include = 'object').columns\n",
    "\n",
    "# found during exploratory phase\n",
    "colinear_features = ['bal_insurance_23',\n",
    "     'bal_insurance_21',\n",
    "     'bal_savings_account_starter',\n",
    "     'has_homebanking',\n",
    "     'customer_since_bank_years',\n",
    "     'cap_life_insurance_decreasing_cap',\n",
    "     'has_mortgage_loan',\n",
    "     'has_fire_car_other_insurance',\n",
    "     'bal_pension_saving',\n",
    "     'bal_personal_loan']\n",
    "\n",
    "\n",
    "numeric_transformer = Pipeline(steps = [\n",
    "    ('impute',SimpleImputer(missing_values=np.nan, strategy='median'))\n",
    "])\n",
    "\n",
    "categorical_transformer = OneHotEncoder(handle_unknown=\"ignore\")\n",
    "\n",
    "\n",
    "preprocessor = ColumnTransformer(\n",
    "    transformers=[\n",
    "        ('drop_ID','drop',obj_col),\n",
    "        ('drop_dates','drop',date_col),\n",
    "        ('drop_colinear', 'drop', colinear_features),\n",
    "        ('cat',categorical_transformer,cat_col),\n",
    "        ('num',numeric_transformer,num_col)\n",
    "    ],\n",
    "    remainder = \"passthrough\"\n",
    ")"
   ]
  },
  {
   "cell_type": "markdown",
   "id": "d7d24ecb",
   "metadata": {},
   "source": [
    "# Model Selection With Grid Search"
   ]
  },
  {
   "cell_type": "code",
   "execution_count": 5,
   "id": "e74d271a",
   "metadata": {},
   "outputs": [
    {
     "name": "stdout",
     "output_type": "stream",
     "text": [
      "Best parameter (CV score=26.000):\n",
      "{'balancer': 'passthrough', 'forest__class_weight': 'balanced', 'forest__max_depth': 5}\n"
     ]
    }
   ],
   "source": [
    "# grid search for params\n",
    "from imblearn.over_sampling import SMOTE\n",
    "from sklearn.ensemble import RandomForestClassifier\n",
    "\n",
    "#balance classes 50:50\n",
    "smt = SMOTE(random_state=42)\n",
    "\n",
    "#classifier\n",
    "rf = RandomForestClassifier(max_depth = 5, n_estimators = 200, random_state=0)\n",
    "\n",
    "#pipeline\n",
    "pipe = Pipeline(\n",
    "    steps=[(\"preprocessor\", preprocessor),\n",
    "           (\"balancer\", smt), \n",
    "           (\"forest\", rf)]\n",
    ")\n",
    "\n",
    "param_grid = [\n",
    "    {\n",
    "        'balancer': [smt],\n",
    "    },\n",
    "    {\n",
    "        'balancer':['passthrough'],\n",
    "        'forest__class_weight':['balanced', 'balanced_subsample'],\n",
    "        'forest__max_depth': [5,8,None]\n",
    "    }\n",
    "]\n",
    "\n",
    "gridscorer = ch.gridscorer() # custom scorer (precision@250)\n",
    "\n",
    "search = GridSearchCV(pipe, param_grid, scoring = gridscorer, n_jobs=-2)\n",
    "search.fit(X_train, y_train)\n",
    "print(\"Best parameter (CV score=%0.3f):\" % search.best_score_)\n",
    "print(search.best_params_)\n"
   ]
  },
  {
   "cell_type": "markdown",
   "id": "532c4586",
   "metadata": {},
   "source": [
    "### Fit RF with best parameters"
   ]
  },
  {
   "cell_type": "code",
   "execution_count": 6,
   "id": "a63b2977",
   "metadata": {},
   "outputs": [
    {
     "name": "stdout",
     "output_type": "stream",
     "text": [
      "------------------------------------------------------------\n",
      "Performance Over Whole Set\n",
      "------------------------------------------------------------\n",
      "               precision    recall  f1-score   support\n",
      "\n",
      "Did not Churn       0.98      0.69      0.81     30892\n",
      "        Churn       0.06      0.64      0.11       957\n",
      "\n",
      "     accuracy                           0.69     31849\n",
      "    macro avg       0.52      0.67      0.46     31849\n",
      " weighted avg       0.96      0.69      0.79     31849\n",
      "\n",
      "------------------------------------------------------------\n",
      "AUC: 0.67\n",
      "No. of TP (precision@250): 42\n",
      "------------------------------------------------------------\n"
     ]
    }
   ],
   "source": [
    "clf = search.best_estimator_.fit(X_train, y_train)\n",
    "#clf = search.best_estimator_\n",
    "\n",
    "# make prediction on test\n",
    "y_pred_test = clf.predict(X_test)\n",
    "y_pred_test_probs = clf.predict_proba(X_test)\n",
    "\n",
    "ch.evaluate(clf, X_test, y_test)"
   ]
  },
  {
   "cell_type": "code",
   "execution_count": null,
   "id": "1e07fcc4",
   "metadata": {},
   "outputs": [],
   "source": [
    "# # run on submission data\n",
    "# X_sub = ch.load_data('../data/test_month_3.csv')\n",
    "\n",
    "# # make prediction on test\n",
    "# y_pred_sub = clf.predict(X_sub)\n",
    "# y_pred_test_sub = clf.predict_proba(X_sub)\n",
    "# y_pred_test_sub_pos = y_pred_test_sub[:,1]\n",
    "\n",
    "# df = pd.DataFrame({'ID': X_sub.client_id,'PROB':y_pred_test_sub_pos})\n",
    "# today = dt.datetime.today()\n",
    "# df.to_csv(f'../output/rf_{today.month}{today.day}.csv', index = False)"
   ]
  },
  {
   "cell_type": "code",
   "execution_count": null,
   "id": "0ea80e20",
   "metadata": {},
   "outputs": [],
   "source": []
  }
 ],
 "metadata": {
  "kernelspec": {
   "display_name": "Python 3 (ipykernel)",
   "language": "python",
   "name": "python3"
  },
  "language_info": {
   "codemirror_mode": {
    "name": "ipython",
    "version": 3
   },
   "file_extension": ".py",
   "mimetype": "text/x-python",
   "name": "python",
   "nbconvert_exporter": "python",
   "pygments_lexer": "ipython3",
   "version": "3.9.7"
  }
 },
 "nbformat": 4,
 "nbformat_minor": 5
}
