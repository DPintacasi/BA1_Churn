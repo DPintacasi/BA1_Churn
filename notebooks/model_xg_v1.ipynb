{
 "cells": [
  {
   "cell_type": "code",
   "execution_count": 2,
   "id": "fc22408e-8e1a-497c-ad3a-dcde23d4fbf0",
   "metadata": {},
   "outputs": [
    {
     "name": "stderr",
     "output_type": "stream",
     "text": [
      "/opt/anaconda3/envs/BADM/lib/python3.9/site-packages/xgboost/compat.py:36: FutureWarning: pandas.Int64Index is deprecated and will be removed from pandas in a future version. Use pandas.Index with the appropriate dtype instead.\n",
      "  from pandas import MultiIndex, Int64Index\n"
     ]
    },
    {
     "name": "stdout",
     "output_type": "stream",
     "text": [
      "------------------------------------------------------------\n",
      "loading data...\n",
      "transforming dates...\n",
      "cast types into bool, object, categorical...\n",
      "data loaded and casted\n",
      "------------------------------------------------------------\n"
     ]
    }
   ],
   "source": [
    "%matplotlib inline\n",
    "import numpy as np\n",
    "\n",
    "import pandas as pd\n",
    "import matplotlib.pyplot as plt\n",
    "import seaborn as sns\n",
    "import datetime as dt\n",
    "\n",
    "from sklearn.compose import ColumnTransformer\n",
    "from sklearn.impute import SimpleImputer\n",
    "from sklearn.preprocessing import OneHotEncoder\n",
    "from sklearn.model_selection import train_test_split, GridSearchCV\n",
    "from imblearn.pipeline import Pipeline\n",
    "import xgboost as xgb\n",
    "\n",
    "import custom_helpers as ch\n",
    "\n",
    "# load data with helper function\n",
    "data = ch.load_data('../data/train_month_3_with_target.csv')"
   ]
  },
  {
   "cell_type": "markdown",
   "id": "51355954",
   "metadata": {},
   "source": [
    "# Preprocessing"
   ]
  },
  {
   "cell_type": "code",
   "execution_count": 9,
   "id": "c1e0b12d",
   "metadata": {},
   "outputs": [],
   "source": [
    "y = data.target\n",
    "X = data.drop(columns = ['target'])\n",
    "\n",
    "X_train, X_test, y_train, y_test = train_test_split(X, y, test_size=0.5, stratify = y, random_state=42)\n",
    "\n",
    "num_col = X_train.select_dtypes(include = 'number', exclude = 'bool').columns\n",
    "cat_col = X_train.select_dtypes(include = 'category').columns\n",
    "bool_col = X_train.select_dtypes(include = 'bool').columns\n",
    "date_col = X_train.select_dtypes(include = 'datetime64').columns\n",
    "obj_col = X_train.select_dtypes(include = 'object').columns\n",
    "\n",
    "# found during exploratory phase\n",
    "colinear_features = ['bal_insurance_23',\n",
    "     'bal_insurance_21',\n",
    "     'bal_savings_account_starter',\n",
    "     'has_homebanking',\n",
    "     'customer_since_bank_years',\n",
    "     'cap_life_insurance_decreasing_cap',\n",
    "     'has_mortgage_loan',\n",
    "     'has_fire_car_other_insurance',\n",
    "     'bal_pension_saving',\n",
    "     'bal_personal_loan']\n",
    "\n",
    "\n",
    "numeric_transformer = Pipeline(steps = [\n",
    "    ('impute',SimpleImputer(missing_values=np.nan, strategy='median'))\n",
    "])\n",
    "\n",
    "categorical_transformer = OneHotEncoder(handle_unknown=\"ignore\")\n",
    "\n",
    "\n",
    "preprocessor = ColumnTransformer(\n",
    "    transformers=[\n",
    "        ('drop_ID','drop',obj_col),\n",
    "        ('drop_dates','drop',date_col),\n",
    "        ('drop_colinear', 'drop', colinear_features),\n",
    "        ('cat',categorical_transformer,cat_col),\n",
    "        ('num',numeric_transformer,num_col)\n",
    "    ],\n",
    "    remainder = \"passthrough\"\n",
    ")\n",
    "\n",
    "X_train = preprocessor.fit_transform(X_train)\n",
    "X_test = preprocessor.transform(X_test)"
   ]
  },
  {
   "cell_type": "markdown",
   "id": "08f4c00e",
   "metadata": {},
   "source": [
    "# First Pass without Parameter Tuning"
   ]
  },
  {
   "cell_type": "code",
   "execution_count": 20,
   "id": "4a287fb5-7b44-4d38-8b98-ec260dc576b3",
   "metadata": {},
   "outputs": [
    {
     "name": "stdout",
     "output_type": "stream",
     "text": [
      "[0]\tvalidation_0-auc:0.67979\n",
      "[1]\tvalidation_0-auc:0.70375\n",
      "[2]\tvalidation_0-auc:0.70044\n",
      "[3]\tvalidation_0-auc:0.70399\n",
      "[4]\tvalidation_0-auc:0.71125\n",
      "[5]\tvalidation_0-auc:0.71134\n",
      "[6]\tvalidation_0-auc:0.71019\n",
      "[7]\tvalidation_0-auc:0.70876\n",
      "[8]\tvalidation_0-auc:0.71080\n",
      "[9]\tvalidation_0-auc:0.71162\n",
      "[10]\tvalidation_0-auc:0.71096\n",
      "[11]\tvalidation_0-auc:0.71148\n",
      "[12]\tvalidation_0-auc:0.71083\n",
      "[13]\tvalidation_0-auc:0.71065\n",
      "[14]\tvalidation_0-auc:0.71025\n",
      "[15]\tvalidation_0-auc:0.71026\n",
      "[16]\tvalidation_0-auc:0.71074\n",
      "[17]\tvalidation_0-auc:0.70985\n",
      "[18]\tvalidation_0-auc:0.70984\n",
      "[19]\tvalidation_0-auc:0.70981\n",
      "------------------------------------------------------------\n",
      "Performance Over Whole Set\n",
      "------------------------------------------------------------\n",
      "               precision    recall  f1-score   support\n",
      "\n",
      "Did not Churn       0.97      1.00      0.98     30892\n",
      "        Churn       0.00      0.00      0.00       957\n",
      "\n",
      "     accuracy                           0.97     31849\n",
      "    macro avg       0.48      0.50      0.49     31849\n",
      " weighted avg       0.94      0.97      0.96     31849\n",
      "\n",
      "------------------------------------------------------------\n",
      "AUC: 0.50\n",
      "No. of TP (precision@250): 27\n",
      "------------------------------------------------------------\n"
     ]
    },
    {
     "name": "stderr",
     "output_type": "stream",
     "text": [
      "/opt/anaconda3/envs/BADM/lib/python3.9/site-packages/sklearn/metrics/_classification.py:1318: UndefinedMetricWarning: Precision and F-score are ill-defined and being set to 0.0 in labels with no predicted samples. Use `zero_division` parameter to control this behavior.\n",
      "  _warn_prf(average, modifier, msg_start, len(result))\n",
      "/opt/anaconda3/envs/BADM/lib/python3.9/site-packages/sklearn/metrics/_classification.py:1318: UndefinedMetricWarning: Precision and F-score are ill-defined and being set to 0.0 in labels with no predicted samples. Use `zero_division` parameter to control this behavior.\n",
      "  _warn_prf(average, modifier, msg_start, len(result))\n",
      "/opt/anaconda3/envs/BADM/lib/python3.9/site-packages/sklearn/metrics/_classification.py:1318: UndefinedMetricWarning: Precision and F-score are ill-defined and being set to 0.0 in labels with no predicted samples. Use `zero_division` parameter to control this behavior.\n",
      "  _warn_prf(average, modifier, msg_start, len(result))\n"
     ]
    }
   ],
   "source": [
    "#classifier\n",
    "xg = xgb.XGBClassifier(objective='binary:logistic', use_label_encoder=False,seed = 42)\n",
    "\n",
    "clf = xg.fit(X_train, y_train,\n",
    "             eval_set = [(X_test, y_test)], \n",
    "             eval_metric = 'auc',\n",
    "             early_stopping_rounds = 10,\n",
    "             verbose = True)\n",
    "\n",
    "ch.evaluate(clf, X_test, y_test)"
   ]
  },
  {
   "cell_type": "code",
   "execution_count": 21,
   "id": "644f525c-f297-427a-8886-40bc6c242681",
   "metadata": {},
   "outputs": [
    {
     "data": {
      "text/plain": [
       "XGBClassifier(base_score=0.5, booster='gbtree', colsample_bylevel=1,\n",
       "              colsample_bynode=1, colsample_bytree=1, enable_categorical=False,\n",
       "              gamma=0, gpu_id=-1, importance_type=None,\n",
       "              interaction_constraints='', learning_rate=0.300000012,\n",
       "              max_delta_step=0, max_depth=6, min_child_weight=1, missing=nan,\n",
       "              monotone_constraints='()', n_estimators=100, n_jobs=8,\n",
       "              num_parallel_tree=1, predictor='auto', random_state=42,\n",
       "              reg_alpha=0, reg_lambda=1, scale_pos_weight=1, seed=42,\n",
       "              subsample=1, tree_method='exact', use_label_encoder=False,\n",
       "              validate_parameters=1, verbosity=None)"
      ]
     },
     "execution_count": 21,
     "metadata": {},
     "output_type": "execute_result"
    }
   ],
   "source": []
  },
  {
   "cell_type": "code",
   "execution_count": 4,
   "id": "fc9c0090-713f-49e7-8ed2-c0b0ecdd1770",
   "metadata": {},
   "outputs": [
    {
     "name": "stdout",
     "output_type": "stream",
     "text": [
      "Best parameter (CV score=26.000):\n",
      "{'balancer': 'passthrough', 'forest__class_weight': 'balanced'}\n"
     ]
    }
   ],
   "source": [
    "#pipeline\n",
    "pipe = Pipeline(\n",
    "    steps=[(\"preprocessor\", preprocessor),\n",
    "           (\"classifer\", rf)]\n",
    ")\n",
    "\n",
    "\n",
    "gridscorer = ch.gridscorer() # custom scorer (precision@250)\n",
    "\n",
    "search = GridSearchCV(pipe, param_grid, scoring = gridscorer, n_jobs=-2)\n",
    "search.fit(X_train, y_train)\n",
    "print(\"Best parameter (CV score=%0.3f):\" % search.best_score_)\n",
    "print(search.best_params_)"
   ]
  },
  {
   "cell_type": "markdown",
   "id": "82dd74d2",
   "metadata": {},
   "source": [
    "### Fit RF with best parameters"
   ]
  },
  {
   "cell_type": "code",
   "execution_count": 5,
   "id": "b9e0e46b",
   "metadata": {},
   "outputs": [
    {
     "name": "stdout",
     "output_type": "stream",
     "text": [
      "Pipeline(steps=[('preprocessor',\n",
      "                 ColumnTransformer(remainder='passthrough',\n",
      "                                   transformers=[('drop_ID', 'drop',\n",
      "                                                  Index(['client_id', 'customer_postal_code'], dtype='object')),\n",
      "                                                 ('drop_dates', 'drop',\n",
      "                                                  Index(['customer_since_all', 'customer_since_bank', 'customer_birth_date'], dtype='object')),\n",
      "                                                 ('drop_colinear', 'drop',\n",
      "                                                  ['bal_insurance_23',\n",
      "                                                   'bal_insurance_21',\n",
      "                                                   'bal_savin...\n",
      "       'bal_pension_saving', 'bal_savings_account',\n",
      "       'bal_savings_account_starter', 'bal_current_account_starter',\n",
      "       'visits_distinct_so', 'visits_distinct_so_areas',\n",
      "       'customer_since_all_years', 'customer_since_bank_years',\n",
      "       'customer_age'],\n",
      "      dtype='object'))])),\n",
      "                ('balancer', 'passthrough'),\n",
      "                ('forest',\n",
      "                 RandomForestClassifier(class_weight='balanced', max_depth=5,\n",
      "                                        n_estimators=200, random_state=0))])\n",
      "------------------------------------------------------------\n",
      "Performance Over Whole Set\n",
      "------------------------------------------------------------\n",
      "               precision    recall  f1-score   support\n",
      "\n",
      "Did not Churn       0.98      0.69      0.81     30892\n",
      "        Churn       0.06      0.64      0.11       957\n",
      "\n",
      "     accuracy                           0.69     31849\n",
      "    macro avg       0.52      0.67      0.46     31849\n",
      " weighted avg       0.96      0.69      0.79     31849\n",
      "\n",
      "------------------------------------------------------------\n",
      "AUC: 0.67\n",
      "No. of TP (precision@250): 42\n",
      "------------------------------------------------------------\n"
     ]
    }
   ],
   "source": [
    "clf = search.best_estimator_.fit(X_train, y_train)\n",
    "#clf = search.best_estimator_\n",
    "\n",
    "# make prediction on test\n",
    "y_pred_test = clf.predict(X_test)\n",
    "y_pred_test_probs = clf.predict_proba(X_test)\n",
    "\n",
    "ch.evaluate(clf, X_test, y_test)"
   ]
  },
  {
   "cell_type": "code",
   "execution_count": 6,
   "id": "2d5765ce",
   "metadata": {},
   "outputs": [],
   "source": [
    "# # run on submission data\n",
    "# X_sub = ch.load_data('../data/test_month_3.csv')\n",
    "\n",
    "# # make prediction on test\n",
    "# y_pred_sub = clf.predict(X_sub)\n",
    "# y_pred_test_sub = clf.predict_proba(X_sub)\n",
    "# y_pred_test_sub_pos = y_pred_test_sub[:,1]\n",
    "\n",
    "# df = pd.DataFrame({'ID': X_sub.client_id,'PROB':y_pred_test_sub_pos})\n",
    "# today = dt.datetime.today()\n",
    "# df.to_csv(f'../output/rf_{today.month}{today.day}.csv', index = False)"
   ]
  },
  {
   "cell_type": "code",
   "execution_count": null,
   "id": "e8d49a4a-1783-4d16-9dbe-a5b2c79cdf44",
   "metadata": {},
   "outputs": [],
   "source": []
  }
 ],
 "metadata": {
  "kernelspec": {
   "display_name": "Python 3 (ipykernel)",
   "language": "python",
   "name": "python3"
  },
  "language_info": {
   "codemirror_mode": {
    "name": "ipython",
    "version": 3
   },
   "file_extension": ".py",
   "mimetype": "text/x-python",
   "name": "python",
   "nbconvert_exporter": "python",
   "pygments_lexer": "ipython3",
   "version": "3.9.7"
  }
 },
 "nbformat": 4,
 "nbformat_minor": 5
}
