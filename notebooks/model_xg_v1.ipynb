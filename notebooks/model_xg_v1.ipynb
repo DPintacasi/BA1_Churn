{
 "cells": [
  {
   "cell_type": "code",
   "execution_count": 1,
   "id": "fc22408e-8e1a-497c-ad3a-dcde23d4fbf0",
   "metadata": {},
   "outputs": [
    {
     "name": "stderr",
     "output_type": "stream",
     "text": [
      "/opt/anaconda3/envs/BADM/lib/python3.9/site-packages/xgboost/compat.py:36: FutureWarning: pandas.Int64Index is deprecated and will be removed from pandas in a future version. Use pandas.Index with the appropriate dtype instead.\n",
      "  from pandas import MultiIndex, Int64Index\n"
     ]
    },
    {
     "name": "stdout",
     "output_type": "stream",
     "text": [
      "------------------------------------------------------------\n",
      "loading data...\n",
      "transforming dates...\n",
      "cast types into bool, object, categorical...\n",
      "data loaded and casted\n",
      "------------------------------------------------------------\n"
     ]
    }
   ],
   "source": [
    "%matplotlib inline\n",
    "import numpy as np\n",
    "\n",
    "import pandas as pd\n",
    "import matplotlib.pyplot as plt\n",
    "import seaborn as sns\n",
    "import datetime as dt\n",
    "\n",
    "from sklearn.compose import ColumnTransformer\n",
    "from sklearn.impute import SimpleImputer\n",
    "from sklearn.preprocessing import OneHotEncoder\n",
    "from sklearn.model_selection import train_test_split, GridSearchCV\n",
    "from imblearn.pipeline import Pipeline\n",
    "import xgboost as xgb\n",
    "\n",
    "import custom_helpers as ch\n",
    "\n",
    "import warnings\n",
    "warnings.filterwarnings('ignore')\n",
    "\n",
    "# load data with helper function\n",
    "data = ch.load_data('../data/train_month_3_with_target.csv')"
   ]
  },
  {
   "cell_type": "markdown",
   "id": "51355954",
   "metadata": {},
   "source": [
    "# Preprocessing"
   ]
  },
  {
   "cell_type": "code",
   "execution_count": 2,
   "id": "c1e0b12d",
   "metadata": {},
   "outputs": [],
   "source": [
    "y = data.target\n",
    "X = data.drop(columns = ['target'])\n",
    "\n",
    "X_train, X_test, y_train, y_test = train_test_split(X, y, test_size=0.2, stratify = y, random_state=42)\n",
    "X_train, X_val, y_train, y_val = train_test_split(X_train, y_train, test_size=0.33, stratify = y_train, random_state=42)\n",
    "\n",
    "num_col = X_train.select_dtypes(include = 'number', exclude = 'bool').columns\n",
    "cat_col = X_train.select_dtypes(include = 'category').columns\n",
    "bool_col = X_train.select_dtypes(include = 'bool').columns\n",
    "date_col = X_train.select_dtypes(include = 'datetime64').columns\n",
    "obj_col = X_train.select_dtypes(include = 'object').columns\n",
    "\n",
    "# found during exploratory phase\n",
    "colinear_features = ['bal_insurance_23',\n",
    "     'bal_insurance_21',\n",
    "     'bal_savings_account_starter',\n",
    "     'has_homebanking',\n",
    "     'customer_since_bank_years',\n",
    "     'cap_life_insurance_decreasing_cap',\n",
    "     'has_mortgage_loan',\n",
    "     'has_fire_car_other_insurance',\n",
    "     'bal_pension_saving',\n",
    "     'bal_personal_loan']\n",
    "\n",
    "\n",
    "numeric_transformer = Pipeline(steps = [\n",
    "    ('impute',SimpleImputer(missing_values=np.nan, strategy='median'))\n",
    "])\n",
    "\n",
    "categorical_transformer = OneHotEncoder(handle_unknown=\"ignore\")\n",
    "\n",
    "\n",
    "preprocessor = ColumnTransformer(\n",
    "    transformers=[\n",
    "        ('drop_ID','drop',obj_col),\n",
    "        ('drop_dates','drop',date_col),\n",
    "        ('drop_colinear', 'drop', colinear_features),\n",
    "        ('cat',categorical_transformer,cat_col),\n",
    "        ('num',numeric_transformer,num_col)\n",
    "    ],\n",
    "    remainder = \"passthrough\"\n",
    ")\n",
    "\n",
    "X_train = preprocessor.fit_transform(X_train)\n",
    "X_val = preprocessor.transform(X_val)\n",
    "X_test = preprocessor.transform(X_test)"
   ]
  },
  {
   "cell_type": "markdown",
   "id": "08f4c00e",
   "metadata": {},
   "source": [
    "# First Pass without Parameter Tuning"
   ]
  },
  {
   "cell_type": "code",
   "execution_count": 3,
   "id": "4a287fb5-7b44-4d38-8b98-ec260dc576b3",
   "metadata": {},
   "outputs": [],
   "source": [
    "# #classifier\n",
    "# xg = xgb.XGBClassifier(objective='binary:logistic', use_label_encoder=False,seed = 42)\n",
    "\n",
    "# clf = xg.fit(X_train, y_train,\n",
    "#              eval_set = [(X_test, y_test)], \n",
    "#              eval_metric = 'auc',\n",
    "#              early_stopping_rounds = 10,\n",
    "#              verbose = True)\n",
    "\n",
    "# ch.evaluate(clf, X_test, y_test)"
   ]
  },
  {
   "cell_type": "code",
   "execution_count": 4,
   "id": "fc9c0090-713f-49e7-8ed2-c0b0ecdd1770",
   "metadata": {},
   "outputs": [
    {
     "name": "stdout",
     "output_type": "stream",
     "text": [
      "Fitting 3 folds for each of 243 candidates, totalling 729 fits\n"
     ]
    },
    {
     "name": "stderr",
     "output_type": "stream",
     "text": [
      "/opt/anaconda3/envs/BADM/lib/python3.9/site-packages/xgboost/compat.py:36: FutureWarning: pandas.Int64Index is deprecated and will be removed from pandas in a future version. Use pandas.Index with the appropriate dtype instead.\n",
      "  from pandas import MultiIndex, Int64Index\n",
      "/opt/anaconda3/envs/BADM/lib/python3.9/site-packages/xgboost/compat.py:36: FutureWarning: pandas.Int64Index is deprecated and will be removed from pandas in a future version. Use pandas.Index with the appropriate dtype instead.\n",
      "  from pandas import MultiIndex, Int64Index\n",
      "/opt/anaconda3/envs/BADM/lib/python3.9/site-packages/xgboost/compat.py:36: FutureWarning: pandas.Int64Index is deprecated and will be removed from pandas in a future version. Use pandas.Index with the appropriate dtype instead.\n",
      "  from pandas import MultiIndex, Int64Index\n",
      "/opt/anaconda3/envs/BADM/lib/python3.9/site-packages/xgboost/compat.py:36: FutureWarning: pandas.Int64Index is deprecated and will be removed from pandas in a future version. Use pandas.Index with the appropriate dtype instead.\n",
      "  from pandas import MultiIndex, Int64Index\n",
      "/opt/anaconda3/envs/BADM/lib/python3.9/site-packages/xgboost/compat.py:36: FutureWarning: pandas.Int64Index is deprecated and will be removed from pandas in a future version. Use pandas.Index with the appropriate dtype instead.\n",
      "  from pandas import MultiIndex, Int64Index\n",
      "/opt/anaconda3/envs/BADM/lib/python3.9/site-packages/xgboost/compat.py:36: FutureWarning: pandas.Int64Index is deprecated and will be removed from pandas in a future version. Use pandas.Index with the appropriate dtype instead.\n",
      "  from pandas import MultiIndex, Int64Index\n",
      "/opt/anaconda3/envs/BADM/lib/python3.9/site-packages/xgboost/compat.py:36: FutureWarning: pandas.Int64Index is deprecated and will be removed from pandas in a future version. Use pandas.Index with the appropriate dtype instead.\n",
      "  from pandas import MultiIndex, Int64Index\n"
     ]
    },
    {
     "name": "stdout",
     "output_type": "stream",
     "text": [
      "Best parameter (CV score=0.733):\n",
      "{'gamma': 1, 'learning_rate': 0.1, 'max_depth': 3, 'reg_lambda': 10, 'scale_pos_weight': 1}\n"
     ]
    }
   ],
   "source": [
    "# First Round\n",
    "param_grid = {\n",
    "    'max_depth' : [3,4,5],\n",
    "    'learning_rate' : [0.01,0.05,0.1],\n",
    "    'reg_lambda' : [0,1,10],\n",
    "    'gamma':[0.05,0.25,1],\n",
    "    'scale_pos_weight': [1,3,5] #use in the neighbourhood of sum(neg)/sum(pos)\n",
    "}\n",
    "\n",
    "search = GridSearchCV(xgb.XGBClassifier(objective='binary:logistic'\n",
    "                                        , subsample = 0.9\n",
    "                                        , colsample_bytree = 0.5\n",
    "                                        , use_label_encoder=False\n",
    "                                        , verbosity = 0\n",
    "                                        , seed = 42)\n",
    "                      , param_grid\n",
    "                      , scoring = 'roc_auc'\n",
    "                      , verbose = 1\n",
    "                      , cv = 3\n",
    "                      , n_jobs=-2\n",
    "                     )\n",
    "\n",
    "\n",
    "search.fit(X_train, y_train\n",
    "             , eval_set = [(X_val, y_val)]\n",
    "             , eval_metric = 'auc'\n",
    "             , early_stopping_rounds = 10\n",
    "             , verbose = False\n",
    "          )\n",
    "\n",
    "print(\"Best parameter (CV score=%0.3f):\" % search.best_score_)\n",
    "print(search.best_params_)"
   ]
  },
  {
   "cell_type": "code",
   "execution_count": 5,
   "id": "3952d2f3-d625-427e-9fe8-41b8a615fbf6",
   "metadata": {},
   "outputs": [
    {
     "name": "stdout",
     "output_type": "stream",
     "text": [
      "Fitting 3 folds for each of 54 candidates, totalling 162 fits\n",
      "Best parameter (CV score=0.731):\n",
      "{'gamma': 0.1, 'learning_rate': 0.1, 'max_depth': 3, 'reg_lambda': 100, 'scale_pos_weight': 5}\n"
     ]
    }
   ],
   "source": [
    "#Second Round\n",
    "param_grid = {\n",
    "    'max_depth' : [3],\n",
    "    'learning_rate' : [0.1,0.5,1],\n",
    "    'reg_lambda' : [10,20,100],\n",
    "    'gamma':[0.01,0.1],\n",
    "    'scale_pos_weight': [5,7,10] #use in the neighbourhood of sum(neg)/sum(pos)\n",
    "}\n",
    "\n",
    "search = GridSearchCV(xgb.XGBClassifier(objective='binary:logistic'\n",
    "                                        , subsample = 0.9\n",
    "                                        , colsample_bytree = 0.5\n",
    "                                        , use_label_encoder=False\n",
    "                                        , verbosity = 0\n",
    "                                        , seed = 42)\n",
    "                      , param_grid\n",
    "                      , scoring = 'roc_auc'\n",
    "                      , verbose = 1\n",
    "                      , cv = 3\n",
    "                      , n_jobs=-2)\n",
    "\n",
    "\n",
    "search.fit(X_train, y_train\n",
    "             , eval_set = [(X_val, y_val)]\n",
    "             , eval_metric = 'auc'\n",
    "             , early_stopping_rounds = 10\n",
    "             , verbose = False)\n",
    "\n",
    "print(\"Best parameter (CV score=%0.3f):\" % search.best_score_)\n",
    "print(search.best_params_)"
   ]
  },
  {
   "cell_type": "code",
   "execution_count": 6,
   "id": "b9e0e46b",
   "metadata": {},
   "outputs": [
    {
     "name": "stdout",
     "output_type": "stream",
     "text": [
      "------------------------------------------------------------\n",
      "Performance Over Whole Set\n",
      "------------------------------------------------------------\n",
      "               precision    recall  f1-score   support\n",
      "\n",
      "Did not Churn       0.97      1.00      0.98     12357\n",
      "        Churn       0.15      0.01      0.02       383\n",
      "\n",
      "     accuracy                           0.97     12740\n",
      "    macro avg       0.56      0.50      0.50     12740\n",
      " weighted avg       0.95      0.97      0.95     12740\n",
      "\n",
      "------------------------------------------------------------\n",
      "AUC: 0.50\n",
      "No. of TP (precision@250): 38\n",
      "------------------------------------------------------------\n"
     ]
    }
   ],
   "source": [
    "clf = search.best_estimator_.fit(X_train, y_train\n",
    "             , eval_set = [(X_val, y_val)]\n",
    "             , eval_metric = 'auc'\n",
    "             , early_stopping_rounds = 10\n",
    "             , verbose = False)\n",
    "#clf = search.best_estimator_\n",
    "\n",
    "# make prediction on test\n",
    "y_pred_test = clf.predict(X_test)\n",
    "y_pred_test_probs = clf.predict_proba(X_test)\n",
    "\n",
    "ch.evaluate(clf, X_test, y_test)"
   ]
  },
  {
   "cell_type": "code",
   "execution_count": 7,
   "id": "4b071c68-f361-4574-be8d-979ce39a9d3d",
   "metadata": {},
   "outputs": [
    {
     "data": {
      "text/plain": [
       "<sklearn.metrics._plot.roc_curve.RocCurveDisplay at 0x7fb74991edf0>"
      ]
     },
     "execution_count": 7,
     "metadata": {},
     "output_type": "execute_result"
    },
    {
     "data": {
      "image/png": "[encoded data removed]",
      "text/plain": [
       "<Figure size 432x288 with 1 Axes>"
      ]
     },
     "metadata": {
      "needs_background": "light"
     },
     "output_type": "display_data"
    }
   ],
   "source": [
    "from sklearn.metrics import RocCurveDisplay\n",
    "\n",
    "RocCurveDisplay.from_estimator(clf, X_test, y_test)"
   ]
  },
  {
   "cell_type": "code",
   "execution_count": 8,
   "id": "626f40d4-f783-4a4b-aa26-2f5669e8c71b",
   "metadata": {},
   "outputs": [
    {
     "name": "stdout",
     "output_type": "stream",
     "text": [
      "------------------------------------------------------------\n",
      "loading data...\n",
      "transforming dates...\n",
      "cast types into bool, object, categorical...\n",
      "data loaded and casted\n",
      "------------------------------------------------------------\n"
     ]
    }
   ],
   "source": [
    "# run on submission data\n",
    "X_sub = ch.load_data('../data/test_month_3.csv')\n",
    "df = preprocessor.transform(X_sub)\n",
    "\n",
    "# make prediction on test\n",
    "y_pred_sub = clf.predict(df)\n",
    "y_pred_test_sub = clf.predict_proba(df)\n",
    "y_pred_test_sub_pos = y_pred_test_sub[:,1]\n",
    "\n",
    "df = pd.DataFrame({'ID': X_sub.client_id,'class': y_pred_sub,'PROB':y_pred_test_sub_pos})\n",
    "\n",
    "\n",
    "# today = dt.datetime.today()\n",
    "# df.to_csv(f'../output/xg_{today.month}{today.day}.csv', index = False)"
   ]
  },
  {
   "cell_type": "code",
   "execution_count": 9,
   "id": "e8d49a4a-1783-4d16-9dbe-a5b2c79cdf44",
   "metadata": {},
   "outputs": [
    {
     "data": {
      "text/plain": [
       "count    27300.000000\n",
       "mean         0.121748\n",
       "std          0.095389\n",
       "min          0.018679\n",
       "25%          0.051580\n",
       "50%          0.083156\n",
       "75%          0.162767\n",
       "max          0.587949\n",
       "Name: PROB, dtype: float64"
      ]
     },
     "execution_count": 9,
     "metadata": {},
     "output_type": "execute_result"
    }
   ],
   "source": [
    "df['PROB'].describe()"
   ]
  },
  {
   "cell_type": "code",
   "execution_count": 10,
   "id": "5780e8fd-ce54-4e22-a964-2098545b0187",
   "metadata": {},
   "outputs": [
    {
     "data": {
      "text/plain": [
       "<AxesSubplot:xlabel='PROB', ylabel='Count'>"
      ]
     },
     "execution_count": 10,
     "metadata": {},
     "output_type": "execute_result"
    },
    {
     "data": {
      "image/png": "[encoded data removed]",
      "text/plain": [
       "<Figure size 432x288 with 1 Axes>"
      ]
     },
     "metadata": {
      "needs_background": "light"
     },
     "output_type": "display_data"
    }
   ],
   "source": [
    "sns.histplot(df['PROB'])"
   ]
  },
  {
   "cell_type": "code",
   "execution_count": null,
   "id": "3f4ff0fc-b3f3-4db9-87a5-44dbb8792c78",
   "metadata": {},
   "outputs": [],
   "source": []
  }
 ],
 "metadata": {
  "kernelspec": {
   "display_name": "Python 3 (ipykernel)",
   "language": "python",
   "name": "python3"
  },
  "language_info": {
   "codemirror_mode": {
    "name": "ipython",
    "version": 3
   },
   "file_extension": ".py",
   "mimetype": "text/x-python",
   "name": "python",
   "nbconvert_exporter": "python",
   "pygments_lexer": "ipython3",
   "version": "3.9.7"
  }
 },
 "nbformat": 4,
 "nbformat_minor": 5
}
