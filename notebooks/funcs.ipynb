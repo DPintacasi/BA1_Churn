{
 "cells": [
  {
   "cell_type": "code",
   "execution_count": null,
   "id": "53563a5e-fa70-4961-8921-be9ce96b06ed",
   "metadata": {},
   "outputs": [],
   "source": [
    "\"\"\"\n",
    "Functions that may be usful across notebooks\n",
    "\n",
    "functions:\n",
    "    -eval\n",
    "    \n",
    "To access any of these functions add this line to beginning of notebook:\n",
    "    %run ./funcs.ipynb\n",
    "\"\"\""
   ]
  },
  {
   "cell_type": "code",
   "execution_count": null,
   "id": "8be71aa4-5cf0-499a-bf63-28126d0093a0",
   "metadata": {},
   "outputs": [],
   "source": [
    "# Eval Function\n",
    "\n",
    "import numpy as np\n",
    "import pandas as pd\n",
    "import matplotlib.pyplot as plt\n",
    "import seaborn as sns\n",
    "\n",
    "def eval(y, y_pred, y_pred_prob):\n",
    "    \"\"\"\"\n",
    "    function that evaluates model using precision@250\n",
    "    \n",
    "    Input\n",
    "    y: vector of true labels\n",
    "    y_pred: vector of predicted label\n",
    "    y_pred_prob: vector of probabilities [from .predict_proba() sklearn method]\n",
    "    \n",
    "    \"\"\"\"\n",
    "    \n",
    "    class_names = ['Did not Churn', 'Churn']\n",
    "    \n",
    "    print(\"Performance Over Whole Set\")\n",
    "    print(\"-\"*50)\n",
    "    print(classification_report(y_test, y_pred_test,target_names = class_names))\n",
    "    \n",
    "    fpr, tpr, thresholds = roc_curve(y_test, y_pred)\n",
    "    AUC = auc(fpr, tpr)\n",
    "    print(\"AUC: %.2f \\n\" % AUC)\n",
    "    print(\"-\"*50)\n",
    "    \n",
    "    # extract only positive prob\n",
    "    y_pred_prob = [x[1] for x in y_pred_prob]\n",
    "    \n",
    "    # get top 250 \"most probable\" positive predictions\n",
    "    y_pred_250 = pd.DataFrame({'y':y,'y_pred':y_pred,'y_pred_prob':y_pred_prob}).sort_values(by ='y_pred_prob',ascending=False)\n",
    "    y_pred_250 = y_pred_250.head(250)\n",
    "   \n",
    "    # Get and reshape confusion matrix data\n",
    "    matrix = confusion_matrix(y_pred_250.y, y_pred_250.y_pred)\n",
    "    fpr, tpr, thresholds = roc_curve(y_pred_250.y, y_pred_250.y_pred)\n",
    "    AUC = auc(fpr, tpr)\n",
    "\n",
    "    print(\"No. of TP (precision@250): %i\" % matrix[-1,-1])\n",
    "    print(\"AUC: %.3f\" % AUC)\n",
    "    print(\"-\"*50)\n",
    "\n",
    "\n",
    "    \n",
    "    "
   ]
  }
 ],
 "metadata": {
  "kernelspec": {
   "display_name": "Python 3 (ipykernel)",
   "language": "python",
   "name": "python3"
  },
  "language_info": {
   "codemirror_mode": {
    "name": "ipython",
    "version": 3
   },
   "file_extension": ".py",
   "mimetype": "text/x-python",
   "name": "python",
   "nbconvert_exporter": "python",
   "pygments_lexer": "ipython3",
   "version": "3.9.7"
  }
 },
 "nbformat": 4,
 "nbformat_minor": 5
}
