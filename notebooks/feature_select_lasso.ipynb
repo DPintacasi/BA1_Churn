{
 "cells": [
  {
   "cell_type": "code",
   "execution_count": 1,
   "id": "c379bd93",
   "metadata": {},
   "outputs": [
    {
     "name": "stdout",
     "output_type": "stream",
     "text": [
      "------------------------------------------------------------\n",
      "loading data...\n",
      "transforming dates...\n",
      "cast types into bool, object, categorical...\n",
      "data loaded and casted\n",
      "------------------------------------------------------------\n"
     ]
    }
   ],
   "source": [
    "%matplotlib inline\n",
    "import numpy as np\n",
    "\n",
    "import pandas as pd\n",
    "import matplotlib.pyplot as plt\n",
    "import seaborn as sns\n",
    "import datetime as dt\n",
    "\n",
    "from sklearn.compose import ColumnTransformer, make_column_selector\n",
    "from sklearn.impute import SimpleImputer\n",
    "from sklearn.preprocessing import StandardScaler, OneHotEncoder\n",
    "from sklearn.linear_model import LogisticRegression\n",
    "from sklearn.model_selection import train_test_split, GridSearchCV\n",
    "from imblearn.pipeline import Pipeline\n",
    "\n",
    "import custom_helpers as ch\n",
    "\n",
    "np.random.seed(0)\n",
    "\n",
    "data = ch.load_data('../data/train_month_3_with_target.csv')# print(df.info())"
   ]
  },
  {
   "cell_type": "code",
   "execution_count": 2,
   "id": "8d8470fe",
   "metadata": {},
   "outputs": [],
   "source": [
    "y_train = data.target\n",
    "X_train = data.drop(columns = ['target'])\n",
    "# X_train = X_train.select_dtypes(exclude = ['object','category','datetime64','bool'])\n",
    "X_train = X_train.select_dtypes(include = 'number')\n",
    "\n",
    "num_col = make_column_selector(dtype_include = 'number', dtype_exclude = 'bool')\n",
    "\n",
    "numeric_transformer = Pipeline(steps = [\n",
    "    ('impute',SimpleImputer(missing_values=np.nan, strategy='median')),\n",
    "    ('scaler',StandardScaler())\n",
    "])\n",
    "\n",
    "preprocessor = ColumnTransformer(\n",
    "    transformers=[\n",
    "        ('num',numeric_transformer,num_col)\n",
    "    ],\n",
    "    remainder = \"passthrough\"\n",
    ")"
   ]
  },
  {
   "cell_type": "code",
   "execution_count": 3,
   "id": "0b509d35",
   "metadata": {},
   "outputs": [],
   "source": [
    "from sklearn.feature_selection import SelectFromModel\n",
    "\n",
    "sel_ = SelectFromModel(LogisticRegression(max_iter=10000, tol=0.5, class_weight = 'balanced',C=1, penalty='l1', solver='liblinear'))\n",
    "                                          \n",
    "pipe = Pipeline(\n",
    "    steps=[\n",
    "        (\"preprocessor\", preprocessor),\n",
    "        (\"lasso\", sel_)]\n",
    ")\n",
    "\n",
    "clf = pipe.fit(X_train,y_train)"
   ]
  },
  {
   "cell_type": "code",
   "execution_count": 4,
   "id": "3ba54461-c7a0-4bd2-99e0-b615166dae03",
   "metadata": {},
   "outputs": [
    {
     "name": "stdout",
     "output_type": "stream",
     "text": [
      "[ True  True  True  True  True  True  True  True  True  True  True  True\n",
      "  True  True  True  True  True]\n",
      "Index(['bal_insurance_21', 'bal_insurance_23', 'cap_life_insurance_fixed_cap',\n",
      "       'cap_life_insurance_decreasing_cap', 'prem_fire_car_other_insurance',\n",
      "       'bal_personal_loan', 'bal_mortgage_loan', 'bal_current_account',\n",
      "       'bal_pension_saving', 'bal_savings_account',\n",
      "       'bal_savings_account_starter', 'bal_current_account_starter',\n",
      "       'visits_distinct_so', 'visits_distinct_so_areas',\n",
      "       'customer_since_all_years', 'customer_since_bank_years',\n",
      "       'customer_age'],\n",
      "      dtype='object')\n"
     ]
    }
   ],
   "source": [
    "print(clf['lasso'].get_support())\n",
    "\n",
    "X = X_train.copy()\n",
    "print(X.columns[clf['lasso'].get_support()])"
   ]
  },
  {
   "cell_type": "raw",
   "id": "01c9cdd0",
   "metadata": {},
   "source": [
    "# run on submission data\n",
    "data_sub = ch.load_data('../data/test_month_3.csv')\n",
    "X_sub, y_sub = sample_agnostic_transformation(data_sub)\n",
    "\n",
    "# make prediction on test\n",
    "y_pred_test_sub_pos = clf.predict_proba(X_sub)[:,1]\n",
    "\n",
    "df = pd.DataFrame({'ID': data_sub.client_id,'PROB':y_pred_test_sub_pos})\n",
    "today = dt.datetime.today()\n",
    "df.to_csv(f'../output/lr_{today.month}{today.day}.csv', index = False)"
   ]
  },
  {
   "cell_type": "code",
   "execution_count": null,
   "id": "d81db467",
   "metadata": {},
   "outputs": [],
   "source": []
  },
  {
   "cell_type": "code",
   "execution_count": 5,
   "id": "7b46c537-3079-43ff-b953-2f90f443273d",
   "metadata": {},
   "outputs": [
    {
     "data": {
      "text/plain": [
       "17"
      ]
     },
     "execution_count": 5,
     "metadata": {},
     "output_type": "execute_result"
    }
   ],
   "source": [
    "XX = preprocessor.fit_transform(X_train)\n",
    "len(XX[0])"
   ]
  },
  {
   "cell_type": "code",
   "execution_count": null,
   "id": "9a123a89-a4ea-49ab-a154-9c88e8cb99a0",
   "metadata": {},
   "outputs": [],
   "source": []
  },
  {
   "cell_type": "code",
   "execution_count": null,
   "id": "95aabdda-06f5-4c82-a0f6-aa7fa7a7c703",
   "metadata": {},
   "outputs": [],
   "source": []
  }
 ],
 "metadata": {
  "kernelspec": {
   "display_name": "Python 3 (ipykernel)",
   "language": "python",
   "name": "python3"
  },
  "language_info": {
   "codemirror_mode": {
    "name": "ipython",
    "version": 3
   },
   "file_extension": ".py",
   "mimetype": "text/x-python",
   "name": "python",
   "nbconvert_exporter": "python",
   "pygments_lexer": "ipython3",
   "version": "3.9.7"
  }
 },
 "nbformat": 4,
 "nbformat_minor": 5
}
