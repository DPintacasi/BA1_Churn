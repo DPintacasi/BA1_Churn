{
 "cells": [
  {
   "cell_type": "markdown",
   "id": "8fd37ed4",
   "metadata": {},
   "source": [
    "# Random Forest Simple Baseline \n",
    "\n",
    "Simple first pass - selected feature with largest correlations and minimal preprocessing to get a sense of baseline\n",
    "\n",
    "results for whole sample and top 250 (as is the measure for the assignment)"
   ]
  },
  {
   "cell_type": "code",
   "execution_count": 1,
   "id": "ffea1e56",
   "metadata": {},
   "outputs": [],
   "source": [
    "%matplotlib inline\n",
    "import numpy as np\n",
    "\n",
    "import pandas as pd\n",
    "import matplotlib.pyplot as plt\n",
    "import seaborn as sns\n",
    "\n",
    "from sklearn.compose import ColumnTransformer\n",
    "from sklearn.impute import SimpleImputer\n",
    "from sklearn.preprocessing import StandardScaler, OneHotEncoder, KBinsDiscretizer\n",
    "from sklearn.tree import DecisionTreeClassifier\n",
    "from sklearn.ensemble import RandomForestClassifier\n",
    "from sklearn.model_selection import train_test_split, GridSearchCV\n",
    "from imblearn.over_sampling import SMOTE\n",
    "from imblearn.pipeline import Pipeline\n",
    "\n",
    "np.random.seed(0)"
   ]
  },
  {
   "cell_type": "code",
   "execution_count": 9,
   "id": "7743ecfc",
   "metadata": {},
   "outputs": [
    {
     "data": {
      "text/plain": [
       "homebanking_active                   int64\n",
       "has_homebanking                      int64\n",
       "bal_mortgage_loan                    int64\n",
       "has_life_insurance_decreasing_cap    int64\n",
       "has_mortgage_loan                    int64\n",
       "has_current_account                  int64\n",
       "cap_life_insurance_decreasing_cap    int64\n",
       "bal_savings_account                  int64\n",
       "bal_current_account                  int64\n",
       "has_personal_loan                    int64\n",
       "bal_personal_loan                    int64\n",
       "dtype: object"
      ]
     },
     "execution_count": 9,
     "metadata": {},
     "output_type": "execute_result"
    }
   ],
   "source": [
    "data = pd.read_csv('../data/train_month_3_with_target.csv',parse_dates = [29,30,32], index_col = 'client_id')\n",
    "\n",
    "y = data.target\n",
    "X = data[['homebanking_active'\n",
    "              ,'has_homebanking'\n",
    "              ,'bal_mortgage_loan'\n",
    "              ,'has_life_insurance_decreasing_cap'\n",
    "              ,'has_mortgage_loan'\n",
    "              ,'has_current_account'\n",
    "              ,'cap_life_insurance_decreasing_cap'\n",
    "              ,'bal_savings_account'\n",
    "              ,'bal_current_account'\n",
    "              ,'has_personal_loan'\n",
    "              ,'bal_personal_loan'\n",
    "         ]]\n",
    "\n",
    "X.dtypes"
   ]
  },
  {
   "cell_type": "code",
   "execution_count": 10,
   "id": "b2cc2dd8",
   "metadata": {},
   "outputs": [
    {
     "name": "stdout",
     "output_type": "stream",
     "text": [
      "Pipeline(steps=[('balancer', SMOTE(random_state=42)),\n",
      "                ('classifier',\n",
      "                 RandomForestClassifier(max_depth=5, random_state=0))])\n"
     ]
    }
   ],
   "source": [
    "#balance classes 50:50\n",
    "smt = SMOTE(random_state=42)\n",
    "\n",
    "#classifier\n",
    "rf = RandomForestClassifier(max_depth=5,n_estimators = 100,random_state=0)\n",
    "\n",
    "#pipeline\n",
    "pipe = Pipeline(\n",
    "    steps=[(\"balancer\", smt), (\"classifier\", rf)]\n",
    ")\n",
    "\n",
    "# split and train \n",
    "X_train, X_test, y_train, y_test = train_test_split(X, y, test_size=0.5, random_state=42)\n",
    "\n",
    "clf = pipe.fit(X_train,y_train)"
   ]
  },
  {
   "cell_type": "code",
   "execution_count": 5,
   "id": "2af9fadc",
   "metadata": {},
   "outputs": [
    {
     "data": {
      "text/html": [
       "<div>\n",
       "<style scoped>\n",
       "    .dataframe tbody tr th:only-of-type {\n",
       "        vertical-align: middle;\n",
       "    }\n",
       "\n",
       "    .dataframe tbody tr th {\n",
       "        vertical-align: top;\n",
       "    }\n",
       "\n",
       "    .dataframe thead th {\n",
       "        text-align: right;\n",
       "    }\n",
       "</style>\n",
       "<table border=\"1\" class=\"dataframe\">\n",
       "  <thead>\n",
       "    <tr style=\"text-align: right;\">\n",
       "      <th></th>\n",
       "      <th>y</th>\n",
       "      <th>y_pred</th>\n",
       "      <th>y_pred_prob</th>\n",
       "    </tr>\n",
       "    <tr>\n",
       "      <th>client_id</th>\n",
       "      <th></th>\n",
       "      <th></th>\n",
       "      <th></th>\n",
       "    </tr>\n",
       "  </thead>\n",
       "  <tbody>\n",
       "    <tr>\n",
       "      <th>6fa825d81722d234b2615fff8a3a04c6</th>\n",
       "      <td>0</td>\n",
       "      <td>1</td>\n",
       "      <td>0.794509</td>\n",
       "    </tr>\n",
       "    <tr>\n",
       "      <th>f83ad9ccb7ccf363b957b9f8e5fc1d6b</th>\n",
       "      <td>0</td>\n",
       "      <td>1</td>\n",
       "      <td>0.794509</td>\n",
       "    </tr>\n",
       "    <tr>\n",
       "      <th>e75caf8a2d29cf2f02210ce2d8b39c81</th>\n",
       "      <td>0</td>\n",
       "      <td>1</td>\n",
       "      <td>0.794509</td>\n",
       "    </tr>\n",
       "    <tr>\n",
       "      <th>68d86cc34dba01c7f258df7263ae4bcc</th>\n",
       "      <td>0</td>\n",
       "      <td>1</td>\n",
       "      <td>0.794509</td>\n",
       "    </tr>\n",
       "    <tr>\n",
       "      <th>9db10d855953b21b875de4f2f66c61a0</th>\n",
       "      <td>0</td>\n",
       "      <td>1</td>\n",
       "      <td>0.794509</td>\n",
       "    </tr>\n",
       "    <tr>\n",
       "      <th>...</th>\n",
       "      <td>...</td>\n",
       "      <td>...</td>\n",
       "      <td>...</td>\n",
       "    </tr>\n",
       "    <tr>\n",
       "      <th>95b2dbbd25c6b4ea5b8cb4f734756bfa</th>\n",
       "      <td>0</td>\n",
       "      <td>1</td>\n",
       "      <td>0.782037</td>\n",
       "    </tr>\n",
       "    <tr>\n",
       "      <th>2ff8683d01bbd42f90832c6fe6bbcf07</th>\n",
       "      <td>0</td>\n",
       "      <td>1</td>\n",
       "      <td>0.782037</td>\n",
       "    </tr>\n",
       "    <tr>\n",
       "      <th>1fecba3c3d9faef6df944516caabd694</th>\n",
       "      <td>0</td>\n",
       "      <td>1</td>\n",
       "      <td>0.781674</td>\n",
       "    </tr>\n",
       "    <tr>\n",
       "      <th>d4ea67f198f2d9e2f908a198614f3874</th>\n",
       "      <td>0</td>\n",
       "      <td>1</td>\n",
       "      <td>0.781552</td>\n",
       "    </tr>\n",
       "    <tr>\n",
       "      <th>15235407308b2aba6cea2600cc50403b</th>\n",
       "      <td>0</td>\n",
       "      <td>1</td>\n",
       "      <td>0.781552</td>\n",
       "    </tr>\n",
       "  </tbody>\n",
       "</table>\n",
       "<p>250 rows × 3 columns</p>\n",
       "</div>"
      ],
      "text/plain": [
       "                                  y  y_pred  y_pred_prob\n",
       "client_id                                               \n",
       "6fa825d81722d234b2615fff8a3a04c6  0       1     0.794509\n",
       "f83ad9ccb7ccf363b957b9f8e5fc1d6b  0       1     0.794509\n",
       "e75caf8a2d29cf2f02210ce2d8b39c81  0       1     0.794509\n",
       "68d86cc34dba01c7f258df7263ae4bcc  0       1     0.794509\n",
       "9db10d855953b21b875de4f2f66c61a0  0       1     0.794509\n",
       "...                              ..     ...          ...\n",
       "95b2dbbd25c6b4ea5b8cb4f734756bfa  0       1     0.782037\n",
       "2ff8683d01bbd42f90832c6fe6bbcf07  0       1     0.782037\n",
       "1fecba3c3d9faef6df944516caabd694  0       1     0.781674\n",
       "d4ea67f198f2d9e2f908a198614f3874  0       1     0.781552\n",
       "15235407308b2aba6cea2600cc50403b  0       1     0.781552\n",
       "\n",
       "[250 rows x 3 columns]"
      ]
     },
     "execution_count": 5,
     "metadata": {},
     "output_type": "execute_result"
    }
   ],
   "source": [
    "# predict \n",
    "y_pred_test = clf.predict(X_test)\n",
    "y_pred_test_probs = clf.predict_proba(X_test)\n",
    "y_pred_test_probs = [x[1] for x in y_pred_test_probs] #unzip probabilities to obtain just prob of pos\n",
    "\n",
    "# extract top 250 \n",
    "y_pred_250 = pd.DataFrame({'y':y_test,'y_pred':y_pred_test,'y_pred_prob':y_pred_test_probs}).sort_values(by ='y_pred_prob',ascending=False)\n",
    "y_pred_250 = y_pred_250.head(250)\n",
    "y_pred_250"
   ]
  },
  {
   "cell_type": "code",
   "execution_count": 14,
   "id": "8f339f50",
   "metadata": {},
   "outputs": [
    {
     "name": "stdout",
     "output_type": "stream",
     "text": [
      "model accuracy score: 0.706\n"
     ]
    },
    {
     "data": {
      "image/png": "[encoded data removed]",
      "text/plain": [
       "<Figure size 1152x504 with 2 Axes>"
      ]
     },
     "metadata": {
      "needs_background": "light"
     },
     "output_type": "display_data"
    },
    {
     "name": "stdout",
     "output_type": "stream",
     "text": [
      "               precision    recall  f1-score   support\n",
      "\n",
      "Did not Churn       0.98      0.71      0.82     30889\n",
      "        Churn       0.06      0.55      0.10       960\n",
      "\n",
      "     accuracy                           0.71     31849\n",
      "    macro avg       0.52      0.63      0.46     31849\n",
      " weighted avg       0.95      0.71      0.80     31849\n",
      "\n"
     ]
    }
   ],
   "source": [
    "#### EVALUATE: whole set\n",
    "\n",
    "from sklearn.metrics import accuracy_score, precision_score,confusion_matrix, classification_report,auc\n",
    "from sklearn.metrics import roc_curve,auc\n",
    "\n",
    "# Get and reshape confusion matrix data\n",
    "matrix = confusion_matrix(y_test, y_pred_test)\n",
    "\n",
    "# Build the plot\n",
    "plt.figure(figsize=(16,7))\n",
    "sns.heatmap(matrix, \n",
    "            annot=True,\n",
    "            fmt='g',\n",
    "            cmap=plt.cm.Greens, \n",
    "            linewidths=0.2)\n",
    "\n",
    "# Add labels to the plot\n",
    "class_names = ['Did not Churn', 'Churn']\n",
    "tick_marks = np.arange(len(class_names))+0.5\n",
    "plt.xticks(tick_marks, class_names, rotation=0)\n",
    "plt.yticks(tick_marks, class_names, rotation=0)\n",
    "plt.xlabel('Predicted label')\n",
    "plt.ylabel('True label')\n",
    "plt.title('Confusion Matrix for Random Forest Model')\n",
    "\n",
    "print(\"model accuracy score: %.3f\" % clf.score(X_test, y_test))\n",
    "plt.show()\n",
    "\n",
    "print(classification_report(y_test, y_pred_test,target_names = class_names))"
   ]
  },
  {
   "cell_type": "code",
   "execution_count": 15,
   "id": "65d6656a",
   "metadata": {},
   "outputs": [
    {
     "name": "stdout",
     "output_type": "stream",
     "text": [
      "               precision    recall  f1-score   support\n",
      "\n",
      "Did not Churn       0.00      0.00      0.00       227\n",
      "        Churn       0.09      1.00      0.17        23\n",
      "\n",
      "     accuracy                           0.09       250\n",
      "    macro avg       0.05      0.50      0.08       250\n",
      " weighted avg       0.01      0.09      0.02       250\n",
      "\n",
      "model ACU score: 0.500\n"
     ]
    },
    {
     "name": "stderr",
     "output_type": "stream",
     "text": [
      "/opt/anaconda3/envs/BADM/lib/python3.9/site-packages/sklearn/metrics/_classification.py:1318: UndefinedMetricWarning: Precision and F-score are ill-defined and being set to 0.0 in labels with no predicted samples. Use `zero_division` parameter to control this behavior.\n",
      "  _warn_prf(average, modifier, msg_start, len(result))\n",
      "/opt/anaconda3/envs/BADM/lib/python3.9/site-packages/sklearn/metrics/_classification.py:1318: UndefinedMetricWarning: Precision and F-score are ill-defined and being set to 0.0 in labels with no predicted samples. Use `zero_division` parameter to control this behavior.\n",
      "  _warn_prf(average, modifier, msg_start, len(result))\n",
      "/opt/anaconda3/envs/BADM/lib/python3.9/site-packages/sklearn/metrics/_classification.py:1318: UndefinedMetricWarning: Precision and F-score are ill-defined and being set to 0.0 in labels with no predicted samples. Use `zero_division` parameter to control this behavior.\n",
      "  _warn_prf(average, modifier, msg_start, len(result))\n"
     ]
    },
    {
     "data": {
      "image/png": "[encoded data removed]",
      "text/plain": [
       "<Figure size 1152x504 with 2 Axes>"
      ]
     },
     "metadata": {
      "needs_background": "light"
     },
     "output_type": "display_data"
    }
   ],
   "source": [
    "#### EVALUATE: top 250 set\n",
    "\n",
    "# Get and reshape confusion matrix data\n",
    "matrix = confusion_matrix(y_pred_250.y, y_pred_250.y_pred)\n",
    "\n",
    "# Build the plot\n",
    "plt.figure(figsize=(16,7))\n",
    "sns.heatmap(matrix, \n",
    "            annot=True,\n",
    "            fmt='g',\n",
    "            cmap=plt.cm.Greens, \n",
    "            linewidths=0.2)\n",
    "\n",
    "# Add labels to the plot\n",
    "class_names = ['Did not Churn', 'Churn']\n",
    "tick_marks = np.arange(len(class_names)) +0.5\n",
    "plt.xticks(tick_marks, class_names, rotation=0)\n",
    "plt.yticks(tick_marks, class_names, rotation=0)\n",
    "plt.xlabel('Predicted label')\n",
    "plt.ylabel('True label')\n",
    "plt.title('Confusion Matrix for Random Forest Model')\n",
    "\n",
    "print(classification_report(y_pred_250.y, y_pred_250.y_pred,target_names = class_names))\n",
    "\n",
    "fpr, tpr, thresholds = roc_curve(y_pred_250.y, y_pred_250.y_pred)\n",
    "print(\"model ACU score: %.3f\" % (auc(fpr, tpr)))"
   ]
  },
  {
   "cell_type": "code",
   "execution_count": null,
   "id": "22e611da",
   "metadata": {},
   "outputs": [],
   "source": []
  }
 ],
 "metadata": {
  "kernelspec": {
   "display_name": "Python 3 (ipykernel)",
   "language": "python",
   "name": "python3"
  },
  "language_info": {
   "codemirror_mode": {
    "name": "ipython",
    "version": 3
   },
   "file_extension": ".py",
   "mimetype": "text/x-python",
   "name": "python",
   "nbconvert_exporter": "python",
   "pygments_lexer": "ipython3",
   "version": "3.9.7"
  }
 },
 "nbformat": 4,
 "nbformat_minor": 5
}
