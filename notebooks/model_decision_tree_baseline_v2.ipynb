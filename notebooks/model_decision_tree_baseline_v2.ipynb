{
 "cells": [
  {
   "cell_type": "code",
   "execution_count": 1,
   "id": "d29a1d7b",
   "metadata": {},
   "outputs": [],
   "source": [
    "%matplotlib inline\n",
    "import numpy as np\n",
    "\n",
    "import pandas as pd\n",
    "import matplotlib.pyplot as plt\n",
    "import seaborn as sns\n",
    "import datetime as dt\n",
    "\n",
    "from sklearn.compose import ColumnTransformer\n",
    "from sklearn.impute import SimpleImputer\n",
    "from sklearn.preprocessing import StandardScaler, OneHotEncoder, KBinsDiscretizer\n",
    "from sklearn.tree import DecisionTreeClassifier\n",
    "from sklearn.ensemble import RandomForestClassifier\n",
    "from sklearn.model_selection import train_test_split, GridSearchCV\n",
    "from imblearn.over_sampling import SMOTE\n",
    "from imblearn.pipeline import Pipeline\n",
    "\n",
    "np.random.seed(0)"
   ]
  },
  {
   "cell_type": "code",
   "execution_count": 2,
   "id": "783a1dbc",
   "metadata": {},
   "outputs": [
    {
     "data": {
      "text/plain": [
       "homebanking_active                            int64\n",
       "has_homebanking                               int64\n",
       "has_insurance_21                              int64\n",
       "has_insurance_23                              int64\n",
       "has_life_insurance_fixed_cap                  int64\n",
       "has_life_insurance_decreasing_cap             int64\n",
       "has_fire_car_other_insurance                  int64\n",
       "has_personal_loan                             int64\n",
       "has_mortgage_loan                             int64\n",
       "has_current_account                           int64\n",
       "has_pension_saving                            int64\n",
       "has_savings_account                           int64\n",
       "has_savings_account_starter                   int64\n",
       "has_current_account_starter                   int64\n",
       "bal_insurance_21                              int64\n",
       "bal_insurance_23                              int64\n",
       "cap_life_insurance_fixed_cap                  int64\n",
       "cap_life_insurance_decreasing_cap             int64\n",
       "prem_fire_car_other_insurance                 int64\n",
       "bal_personal_loan                             int64\n",
       "bal_mortgage_loan                             int64\n",
       "bal_current_account                           int64\n",
       "bal_pension_saving                            int64\n",
       "bal_savings_account                           int64\n",
       "bal_savings_account_starter                   int64\n",
       "bal_current_account_starter                   int64\n",
       "visits_distinct_so                          float64\n",
       "visits_distinct_so_areas                    float64\n",
       "customer_since_all                   datetime64[ns]\n",
       "customer_since_bank                  datetime64[ns]\n",
       "customer_gender                               int64\n",
       "customer_birth_date                  datetime64[ns]\n",
       "customer_postal_code                          int64\n",
       "customer_occupation_code                    float64\n",
       "customer_self_employed                        int64\n",
       "customer_education                          float64\n",
       "customer_children                            object\n",
       "customer_relationship                        object\n",
       "target                                        int64\n",
       "dtype: object"
      ]
     },
     "execution_count": 2,
     "metadata": {},
     "output_type": "execute_result"
    }
   ],
   "source": [
    "data = pd.read_csv('../data/train_month_3_with_target.csv',parse_dates = [29,30,32], index_col = 'client_id')\n",
    "data.dtypes"
   ]
  },
  {
   "cell_type": "code",
   "execution_count": 3,
   "id": "3f222762",
   "metadata": {},
   "outputs": [
    {
     "name": "stdout",
     "output_type": "stream",
     "text": [
      "homebanking_active                     int64\n",
      "has_homebanking                        int64\n",
      "bal_mortgage_loan                      int64\n",
      "has_life_insurance_decreasing_cap      int64\n",
      "has_mortgage_loan                      int64\n",
      "has_current_account                    int64\n",
      "cap_life_insurance_decreasing_cap      int64\n",
      "bal_savings_account                    int64\n",
      "bal_current_account                    int64\n",
      "has_personal_loan                      int64\n",
      "bal_personal_loan                      int64\n",
      "customer_since_all_years             float64\n",
      "customer_since_bank_years            float64\n",
      "customer_age                           int64\n",
      "dtype: object\n"
     ]
    }
   ],
   "source": [
    "#non sample-dependent transformations\n",
    "date_features = data.select_dtypes(include = ['datetime64'])\n",
    "data['customer_since_all_years'] = (2018-data.customer_since_all.dt.year)\n",
    "data['customer_since_bank_years'] = (2018-data.customer_since_bank.dt.year)\n",
    "data['customer_age'] = (2018-data.customer_birth_date.dt.year)\n",
    "\n",
    "#initialise target and select features\n",
    "\n",
    "selected_col = ['homebanking_active'\n",
    "              ,'has_homebanking'\n",
    "              ,'bal_mortgage_loan'\n",
    "              ,'has_life_insurance_decreasing_cap'\n",
    "              ,'has_mortgage_loan'\n",
    "              ,'has_current_account'\n",
    "              ,'cap_life_insurance_decreasing_cap'\n",
    "              ,'bal_savings_account'\n",
    "              ,'bal_current_account'\n",
    "              ,'has_personal_loan'\n",
    "              ,'bal_personal_loan'\n",
    "              ,'customer_since_all_years'\n",
    "              ,'customer_since_bank_years'\n",
    "              ,'customer_age'   \n",
    "         ]\n",
    "y = data.target\n",
    "X = data.drop(columns = ['target'])\n",
    "X = X[selected_col]\n",
    "print(X.dtypes)\n",
    "X_train, X_test, y_train, y_test = train_test_split(X, y, test_size=0.5, random_state=42)"
   ]
  },
  {
   "cell_type": "code",
   "execution_count": 4,
   "id": "aa8a960b",
   "metadata": {},
   "outputs": [
    {
     "data": {
      "text/plain": [
       "Index(['homebanking_active', 'has_homebanking', 'bal_mortgage_loan',\n",
       "       'has_life_insurance_decreasing_cap', 'has_mortgage_loan',\n",
       "       'has_current_account', 'cap_life_insurance_decreasing_cap',\n",
       "       'bal_savings_account', 'bal_current_account', 'has_personal_loan',\n",
       "       'bal_personal_loan', 'customer_since_all_years',\n",
       "       'customer_since_bank_years', 'customer_age'],\n",
       "      dtype='object')"
      ]
     },
     "execution_count": 4,
     "metadata": {},
     "output_type": "execute_result"
    }
   ],
   "source": [
    "X_train.columns"
   ]
  },
  {
   "cell_type": "code",
   "execution_count": 12,
   "id": "71271c93",
   "metadata": {},
   "outputs": [],
   "source": [
    "#sample dependent preprocessing\n",
    "from sklearn.preprocessing import FunctionTransformer, KBinsDiscretizer\n",
    "\n",
    "\n",
    "kbin = KBinsDiscretizer(n_bins=5, encode='ordinal')\n",
    "binner = Pipeline(steps=[\n",
    "    ('impute',SimpleImputer(missing_values=np.nan, strategy='mean'))\n",
    "#     ,('bin',KBinsDiscretizer(n_bins=5, encode='ordinal'))\n",
    "])\n",
    "\n",
    "columns_to_bin = ['customer_since_all_years','customer_since_bank_years','customer_age']\n",
    "preprocessor = ColumnTransformer(\n",
    "    transformers=[\n",
    "        (\"bin\", binner, columns_to_bin)     \n",
    "    ],\n",
    "    remainder = \"passthrough\"\n",
    ")\n"
   ]
  },
  {
   "cell_type": "code",
   "execution_count": 13,
   "id": "ae78a1bf",
   "metadata": {},
   "outputs": [],
   "source": [
    "#balance classes 50:50\n",
    "smt = SMOTE(random_state=42)\n",
    "\n",
    "#classifier\n",
    "rf = RandomForestClassifier(max_depth=5,n_estimators = 100,random_state=0)\n",
    "\n",
    "#pipeline\n",
    "pipe = Pipeline(\n",
    "    steps=[(\"preprocessor\", preprocessor),(\"balancer\", smt), (\"classifier\", rf)]\n",
    ")\n",
    "\n",
    "# train \n",
    "clf = pipe.fit(X_train,y_train)"
   ]
  },
  {
   "cell_type": "code",
   "execution_count": 14,
   "id": "1b1b8893",
   "metadata": {},
   "outputs": [
    {
     "data": {
      "text/html": [
       "<div>\n",
       "<style scoped>\n",
       "    .dataframe tbody tr th:only-of-type {\n",
       "        vertical-align: middle;\n",
       "    }\n",
       "\n",
       "    .dataframe tbody tr th {\n",
       "        vertical-align: top;\n",
       "    }\n",
       "\n",
       "    .dataframe thead th {\n",
       "        text-align: right;\n",
       "    }\n",
       "</style>\n",
       "<table border=\"1\" class=\"dataframe\">\n",
       "  <thead>\n",
       "    <tr style=\"text-align: right;\">\n",
       "      <th></th>\n",
       "      <th>y</th>\n",
       "      <th>y_pred</th>\n",
       "      <th>y_pred_prob</th>\n",
       "    </tr>\n",
       "    <tr>\n",
       "      <th>client_id</th>\n",
       "      <th></th>\n",
       "      <th></th>\n",
       "      <th></th>\n",
       "    </tr>\n",
       "  </thead>\n",
       "  <tbody>\n",
       "    <tr>\n",
       "      <th>be069427de1e04e9e840a042ffd475e2</th>\n",
       "      <td>0</td>\n",
       "      <td>1</td>\n",
       "      <td>0.767302</td>\n",
       "    </tr>\n",
       "    <tr>\n",
       "      <th>417e6f66c7c8e0629e9f877f04f4ebd7</th>\n",
       "      <td>1</td>\n",
       "      <td>1</td>\n",
       "      <td>0.767302</td>\n",
       "    </tr>\n",
       "    <tr>\n",
       "      <th>3155f78c1d686a28668d32d6bfc433c0</th>\n",
       "      <td>0</td>\n",
       "      <td>1</td>\n",
       "      <td>0.767302</td>\n",
       "    </tr>\n",
       "    <tr>\n",
       "      <th>ae6ff1d5a129a7398bf3c1b4f097c9d9</th>\n",
       "      <td>0</td>\n",
       "      <td>1</td>\n",
       "      <td>0.767302</td>\n",
       "    </tr>\n",
       "    <tr>\n",
       "      <th>4b2026034f1ffb9b7dc4dc8a6d52d5bf</th>\n",
       "      <td>0</td>\n",
       "      <td>1</td>\n",
       "      <td>0.767302</td>\n",
       "    </tr>\n",
       "    <tr>\n",
       "      <th>...</th>\n",
       "      <td>...</td>\n",
       "      <td>...</td>\n",
       "      <td>...</td>\n",
       "    </tr>\n",
       "    <tr>\n",
       "      <th>9b084c0e39a525543dd017854e560a18</th>\n",
       "      <td>0</td>\n",
       "      <td>1</td>\n",
       "      <td>0.748489</td>\n",
       "    </tr>\n",
       "    <tr>\n",
       "      <th>a9f845e4c27767232a9beb0751fa7e8f</th>\n",
       "      <td>0</td>\n",
       "      <td>1</td>\n",
       "      <td>0.746966</td>\n",
       "    </tr>\n",
       "    <tr>\n",
       "      <th>298a9b574b015c8d84b59c52443dbfb0</th>\n",
       "      <td>0</td>\n",
       "      <td>1</td>\n",
       "      <td>0.746670</td>\n",
       "    </tr>\n",
       "    <tr>\n",
       "      <th>ae8d7a39d1916823e0160327a9078ee0</th>\n",
       "      <td>0</td>\n",
       "      <td>1</td>\n",
       "      <td>0.746670</td>\n",
       "    </tr>\n",
       "    <tr>\n",
       "      <th>e8a8c46eea19d4494c5bba9d93f21d20</th>\n",
       "      <td>0</td>\n",
       "      <td>1</td>\n",
       "      <td>0.746670</td>\n",
       "    </tr>\n",
       "  </tbody>\n",
       "</table>\n",
       "<p>250 rows × 3 columns</p>\n",
       "</div>"
      ],
      "text/plain": [
       "                                  y  y_pred  y_pred_prob\n",
       "client_id                                               \n",
       "be069427de1e04e9e840a042ffd475e2  0       1     0.767302\n",
       "417e6f66c7c8e0629e9f877f04f4ebd7  1       1     0.767302\n",
       "3155f78c1d686a28668d32d6bfc433c0  0       1     0.767302\n",
       "ae6ff1d5a129a7398bf3c1b4f097c9d9  0       1     0.767302\n",
       "4b2026034f1ffb9b7dc4dc8a6d52d5bf  0       1     0.767302\n",
       "...                              ..     ...          ...\n",
       "9b084c0e39a525543dd017854e560a18  0       1     0.748489\n",
       "a9f845e4c27767232a9beb0751fa7e8f  0       1     0.746966\n",
       "298a9b574b015c8d84b59c52443dbfb0  0       1     0.746670\n",
       "ae8d7a39d1916823e0160327a9078ee0  0       1     0.746670\n",
       "e8a8c46eea19d4494c5bba9d93f21d20  0       1     0.746670\n",
       "\n",
       "[250 rows x 3 columns]"
      ]
     },
     "execution_count": 14,
     "metadata": {},
     "output_type": "execute_result"
    }
   ],
   "source": [
    "y_pred_test = clf.predict(X_test)\n",
    "y_pred_test_probs = clf.predict_proba(X_test)\n",
    "y_pred_test_probs = [x[1] for x in y_pred_test_probs]\n",
    "\n",
    "# y_pred_250 \n",
    "y_pred_250 = pd.DataFrame({'y':y_test,'y_pred':y_pred_test,'y_pred_prob':y_pred_test_probs}).sort_values(by ='y_pred_prob',ascending=False)\n",
    "y_pred_250 = y_pred_250.head(250)\n",
    "y_pred_250"
   ]
  },
  {
   "cell_type": "code",
   "execution_count": 15,
   "id": "f277c1f7",
   "metadata": {},
   "outputs": [
    {
     "name": "stdout",
     "output_type": "stream",
     "text": [
      "model accuracy score: 0.831\n"
     ]
    },
    {
     "data": {
      "image/png": "[encoded data removed]",
      "text/plain": [
       "<Figure size 1152x504 with 2 Axes>"
      ]
     },
     "metadata": {
      "needs_background": "light"
     },
     "output_type": "display_data"
    },
    {
     "name": "stdout",
     "output_type": "stream",
     "text": [
      "               precision    recall  f1-score   support\n",
      "\n",
      "Did not Churn       0.98      0.84      0.91     30889\n",
      "        Churn       0.07      0.39      0.12       960\n",
      "\n",
      "     accuracy                           0.83     31849\n",
      "    macro avg       0.53      0.62      0.51     31849\n",
      " weighted avg       0.95      0.83      0.88     31849\n",
      "\n"
     ]
    }
   ],
   "source": [
    "from sklearn.metrics import accuracy_score, precision_score,confusion_matrix, classification_report,auc\n",
    "from sklearn.metrics import roc_curve,auc\n",
    "\n",
    "# Get and reshape confusion matrix data\n",
    "matrix = confusion_matrix(y_test, y_pred_test)\n",
    "\n",
    "# Build the plot\n",
    "plt.figure(figsize=(16,7))\n",
    "sns.heatmap(matrix, \n",
    "            annot=True,\n",
    "            fmt='g',\n",
    "            cmap=plt.cm.Greens, \n",
    "            linewidths=0.2)\n",
    "\n",
    "# Add labels to the plot\n",
    "class_names = ['Did not Churn', 'Churn']\n",
    "tick_marks = np.arange(len(class_names))+0.5\n",
    "plt.xticks(tick_marks, class_names, rotation=0)\n",
    "plt.yticks(tick_marks, class_names, rotation=0)\n",
    "plt.xlabel('Predicted label')\n",
    "plt.ylabel('True label')\n",
    "plt.title('Confusion Matrix for Random Forest Model')\n",
    "\n",
    "print(\"model accuracy score: %.3f\" % clf.score(X_test, y_test))\n",
    "plt.show()\n",
    "\n",
    "print(classification_report(y_test, y_pred_test,target_names = class_names))"
   ]
  },
  {
   "cell_type": "code",
   "execution_count": 16,
   "id": "b62ed047",
   "metadata": {},
   "outputs": [
    {
     "name": "stdout",
     "output_type": "stream",
     "text": [
      "               precision    recall  f1-score   support\n",
      "\n",
      "Did not Churn       0.00      0.00      0.00       223\n",
      "        Churn       0.11      1.00      0.19        27\n",
      "\n",
      "     accuracy                           0.11       250\n",
      "    macro avg       0.05      0.50      0.10       250\n",
      " weighted avg       0.01      0.11      0.02       250\n",
      "\n"
     ]
    },
    {
     "name": "stderr",
     "output_type": "stream",
     "text": [
      "/opt/anaconda3/envs/BADM/lib/python3.9/site-packages/sklearn/metrics/_classification.py:1318: UndefinedMetricWarning: Precision and F-score are ill-defined and being set to 0.0 in labels with no predicted samples. Use `zero_division` parameter to control this behavior.\n",
      "  _warn_prf(average, modifier, msg_start, len(result))\n",
      "/opt/anaconda3/envs/BADM/lib/python3.9/site-packages/sklearn/metrics/_classification.py:1318: UndefinedMetricWarning: Precision and F-score are ill-defined and being set to 0.0 in labels with no predicted samples. Use `zero_division` parameter to control this behavior.\n",
      "  _warn_prf(average, modifier, msg_start, len(result))\n",
      "/opt/anaconda3/envs/BADM/lib/python3.9/site-packages/sklearn/metrics/_classification.py:1318: UndefinedMetricWarning: Precision and F-score are ill-defined and being set to 0.0 in labels with no predicted samples. Use `zero_division` parameter to control this behavior.\n",
      "  _warn_prf(average, modifier, msg_start, len(result))\n"
     ]
    },
    {
     "data": {
      "text/plain": [
       "0.5"
      ]
     },
     "execution_count": 16,
     "metadata": {},
     "output_type": "execute_result"
    },
    {
     "data": {
      "image/png": "[encoded data removed]",
      "text/plain": [
       "<Figure size 1152x504 with 2 Axes>"
      ]
     },
     "metadata": {
      "needs_background": "light"
     },
     "output_type": "display_data"
    }
   ],
   "source": [
    "# At top 250\n",
    "from sklearn.metrics import accuracy_score, precision_score,confusion_matrix, classification_report\n",
    "from sklearn.metrics import roc_curve,auc\n",
    "\n",
    "# Get and reshape confusion matrix data\n",
    "matrix = confusion_matrix(y_pred_250.y, y_pred_250.y_pred)\n",
    "\n",
    "# Build the plot\n",
    "plt.figure(figsize=(16,7))\n",
    "sns.heatmap(matrix, \n",
    "            annot=True,\n",
    "            fmt='g',\n",
    "            cmap=plt.cm.Greens, \n",
    "            linewidths=0.2)\n",
    "\n",
    "# Add labels to the plot\n",
    "class_names = ['Did not Churn', 'Churn']\n",
    "tick_marks = np.arange(len(class_names)) +0.5\n",
    "plt.xticks(tick_marks, class_names, rotation=0)\n",
    "plt.yticks(tick_marks, class_names, rotation=0)\n",
    "plt.xlabel('Predicted label')\n",
    "plt.ylabel('True label')\n",
    "plt.title('Confusion Matrix for Random Forest Model')\n",
    "\n",
    "print(classification_report(y_pred_250.y, y_pred_250.y_pred,target_names = class_names))\n",
    "\n",
    "fpr, tpr, thresholds = roc_curve(y_pred_250.y, y_pred_250.y_pred)\n",
    "auc(fpr, tpr)"
   ]
  },
  {
   "cell_type": "code",
   "execution_count": null,
   "id": "a86e92eb",
   "metadata": {},
   "outputs": [],
   "source": []
  },
  {
   "cell_type": "code",
   "execution_count": null,
   "id": "021c32a9",
   "metadata": {},
   "outputs": [],
   "source": []
  },
  {
   "cell_type": "code",
   "execution_count": null,
   "id": "c769faaa",
   "metadata": {},
   "outputs": [],
   "source": []
  }
 ],
 "metadata": {
  "kernelspec": {
   "display_name": "Python 3 (ipykernel)",
   "language": "python",
   "name": "python3"
  },
  "language_info": {
   "codemirror_mode": {
    "name": "ipython",
    "version": 3
   },
   "file_extension": ".py",
   "mimetype": "text/x-python",
   "name": "python",
   "nbconvert_exporter": "python",
   "pygments_lexer": "ipython3",
   "version": "3.9.7"
  }
 },
 "nbformat": 4,
 "nbformat_minor": 5
}
